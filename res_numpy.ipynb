{
 "cells": [
  {
   "cell_type": "code",
   "execution_count": 17,
   "metadata": {},
   "outputs": [
    {
     "name": "stdout",
     "output_type": "stream",
     "text": [
      "[[b'5.1' b'3.5' b'1.4' b'0.2' b'Iris-setosa']\n",
      " [b'4.9' b'3.0' b'1.4' b'0.2' b'Iris-setosa']]\n",
      "[b'5.1' b'4.9']\n"
     ]
    }
   ],
   "source": [
    "# Exercício 8\n",
    "import numpy as np\n",
    "\n",
    "url = 'https://archive.ics.uci.edu/ml/machine-learning-databases/iris/iris.data'\n",
    "colunas = ('sepallendth', 'sepalwidth', 'petallenght', 'petalwidth', 'species')\n",
    "\n",
    "iris = np.genfromtxt(url, delimiter=',', dtype='object', encoding='ascii')\n",
    "\n",
    "print(iris[:2])\n",
    "print(iris[:2,0]) # Selecionar linha e coluna"
   ]
  },
  {
   "cell_type": "code",
   "execution_count": 1,
   "metadata": {},
   "outputs": [
    {
     "name": "stdout",
     "output_type": "stream",
     "text": [
      "['Iris-setosa' 'Iris-setosa' 'Iris-setosa' 'Iris-setosa' 'Iris-setosa'\n",
      " 'Iris-setosa' 'Iris-setosa' 'Iris-setosa' 'Iris-setosa' 'Iris-setosa'\n",
      " 'Iris-setosa' 'Iris-setosa' 'Iris-setosa' 'Iris-setosa' 'Iris-setosa'\n",
      " 'Iris-setosa' 'Iris-setosa' 'Iris-setosa' 'Iris-setosa' 'Iris-setosa'\n",
      " 'Iris-setosa' 'Iris-setosa' 'Iris-setosa' 'Iris-setosa' 'Iris-setosa'\n",
      " 'Iris-setosa' 'Iris-setosa' 'Iris-setosa' 'Iris-setosa' 'Iris-setosa'\n",
      " 'Iris-setosa' 'Iris-setosa' 'Iris-setosa' 'Iris-setosa' 'Iris-setosa'\n",
      " 'Iris-setosa' 'Iris-setosa' 'Iris-setosa' 'Iris-setosa' 'Iris-setosa'\n",
      " 'Iris-setosa' 'Iris-setosa' 'Iris-setosa' 'Iris-setosa' 'Iris-setosa'\n",
      " 'Iris-setosa' 'Iris-setosa' 'Iris-setosa' 'Iris-setosa' 'Iris-setosa'\n",
      " 'Iris-versicolor' 'Iris-versicolor' 'Iris-versicolor' 'Iris-versicolor'\n",
      " 'Iris-versicolor' 'Iris-versicolor' 'Iris-versicolor' 'Iris-versicolor'\n",
      " 'Iris-versicolor' 'Iris-versicolor' 'Iris-versicolor' 'Iris-versicolor'\n",
      " 'Iris-versicolor' 'Iris-versicolor' 'Iris-versicolor' 'Iris-versicolor'\n",
      " 'Iris-versicolor' 'Iris-versicolor' 'Iris-versicolor' 'Iris-versicolor'\n",
      " 'Iris-versicolor' 'Iris-versicolor' 'Iris-versicolor' 'Iris-versicolor'\n",
      " 'Iris-versicolor' 'Iris-versicolor' 'Iris-versicolor' 'Iris-versicolor'\n",
      " 'Iris-versicolor' 'Iris-versicolor' 'Iris-versicolor' 'Iris-versicolor'\n",
      " 'Iris-versicolor' 'Iris-versicolor' 'Iris-versicolor' 'Iris-versicolor'\n",
      " 'Iris-versicolor' 'Iris-versicolor' 'Iris-versicolor' 'Iris-versicolor'\n",
      " 'Iris-versicolor' 'Iris-versicolor' 'Iris-versicolor' 'Iris-versicolor'\n",
      " 'Iris-versicolor' 'Iris-versicolor' 'Iris-versicolor' 'Iris-versicolor'\n",
      " 'Iris-versicolor' 'Iris-versicolor' 'Iris-virginica' 'Iris-virginica'\n",
      " 'Iris-virginica' 'Iris-virginica' 'Iris-virginica' 'Iris-virginica'\n",
      " 'Iris-virginica' 'Iris-virginica' 'Iris-virginica' 'Iris-virginica'\n",
      " 'Iris-virginica' 'Iris-virginica' 'Iris-virginica' 'Iris-virginica'\n",
      " 'Iris-virginica' 'Iris-virginica' 'Iris-virginica' 'Iris-virginica'\n",
      " 'Iris-virginica' 'Iris-virginica' 'Iris-virginica' 'Iris-virginica'\n",
      " 'Iris-virginica' 'Iris-virginica' 'Iris-virginica' 'Iris-virginica'\n",
      " 'Iris-virginica' 'Iris-virginica' 'Iris-virginica' 'Iris-virginica'\n",
      " 'Iris-virginica' 'Iris-virginica' 'Iris-virginica' 'Iris-virginica'\n",
      " 'Iris-virginica' 'Iris-virginica' 'Iris-virginica' 'Iris-virginica'\n",
      " 'Iris-virginica' 'Iris-virginica' 'Iris-virginica' 'Iris-virginica'\n",
      " 'Iris-virginica' 'Iris-virginica' 'Iris-virginica' 'Iris-virginica'\n",
      " 'Iris-virginica' 'Iris-virginica' 'Iris-virginica' 'Iris-virginica']\n"
     ]
    }
   ],
   "source": [
    "# Exercício 9\n",
    "import numpy as np\n",
    "\n",
    "url = 'https://archive.ics.uci.edu/ml/machine-learning-databases/iris/iris.data'\n",
    "iris = np.genfromtxt(url, delimiter=',', dtype='object', encoding='ascii')\n",
    "\n",
    "species = iris[:, 4].astype(str)\n",
    "print(species)\n"
   ]
  },
  {
   "cell_type": "code",
   "execution_count": 16,
   "metadata": {},
   "outputs": [
    {
     "name": "stdout",
     "output_type": "stream",
     "text": [
      "Média: 5.84 - Mediana: 5.80 - Desvio Padrão: 0.83\n"
     ]
    }
   ],
   "source": [
    "# Exercício 10\n",
    "import numpy as np\n",
    "\n",
    "url = 'https://archive.ics.uci.edu/ml/machine-learning-databases/iris/iris.data'\n",
    "iris = np.genfromtxt(url, delimiter=',', dtype='object', encoding='ascii')\n",
    "\n",
    "sepallendth = iris[:, 0].astype(float)\n",
    "\n",
    "print(f'Média: {np.mean(sepallendth):.2f} - Mediana: {np.median(sepallendth):.2f} - Desvio Padrão: {np.std(sepallendth):.2f}')\n"
   ]
  },
  {
   "cell_type": "code",
   "execution_count": 20,
   "metadata": {},
   "outputs": [
    {
     "name": "stdout",
     "output_type": "stream",
     "text": [
      "Maximo = 7.9 - Minimo = 4.3\n",
      "[0.22222222 0.16666667 0.11111111 0.08333333 0.19444444 0.30555556\n",
      " 0.08333333 0.19444444 0.02777778 0.16666667 0.30555556 0.13888889\n",
      " 0.13888889 0.         0.41666667 0.38888889 0.30555556 0.22222222\n",
      " 0.38888889 0.22222222 0.30555556 0.22222222 0.08333333 0.22222222\n",
      " 0.13888889 0.19444444 0.19444444 0.25       0.25       0.11111111\n",
      " 0.13888889 0.30555556 0.25       0.33333333 0.16666667 0.19444444\n",
      " 0.33333333 0.16666667 0.02777778 0.22222222 0.19444444 0.05555556\n",
      " 0.02777778 0.19444444 0.22222222 0.13888889 0.22222222 0.08333333\n",
      " 0.27777778 0.19444444 0.75       0.58333333 0.72222222 0.33333333\n",
      " 0.61111111 0.38888889 0.55555556 0.16666667 0.63888889 0.25\n",
      " 0.19444444 0.44444444 0.47222222 0.5        0.36111111 0.66666667\n",
      " 0.36111111 0.41666667 0.52777778 0.36111111 0.44444444 0.5\n",
      " 0.55555556 0.5        0.58333333 0.63888889 0.69444444 0.66666667\n",
      " 0.47222222 0.38888889 0.33333333 0.33333333 0.41666667 0.47222222\n",
      " 0.30555556 0.47222222 0.66666667 0.55555556 0.36111111 0.33333333\n",
      " 0.33333333 0.5        0.41666667 0.19444444 0.36111111 0.38888889\n",
      " 0.38888889 0.52777778 0.22222222 0.38888889 0.55555556 0.41666667\n",
      " 0.77777778 0.55555556 0.61111111 0.91666667 0.16666667 0.83333333\n",
      " 0.66666667 0.80555556 0.61111111 0.58333333 0.69444444 0.38888889\n",
      " 0.41666667 0.58333333 0.61111111 0.94444444 0.94444444 0.47222222\n",
      " 0.72222222 0.36111111 0.94444444 0.55555556 0.66666667 0.80555556\n",
      " 0.52777778 0.5        0.58333333 0.80555556 0.86111111 1.\n",
      " 0.58333333 0.55555556 0.5        0.94444444 0.55555556 0.58333333\n",
      " 0.47222222 0.72222222 0.66666667 0.72222222 0.41666667 0.69444444\n",
      " 0.66666667 0.66666667 0.55555556 0.61111111 0.52777778 0.44444444]\n"
     ]
    }
   ],
   "source": [
    "# Exercício 11\n",
    "import numpy as np\n",
    "\n",
    "url = 'https://archive.ics.uci.edu/ml/machine-learning-databases/iris/iris.data'\n",
    "iris = np.genfromtxt(url, delimiter=',', dtype='object', encoding='ascii')\n",
    "\n",
    "sepallendth = iris[:, 0].astype(float)\n",
    "\n",
    "valor_maximo = np.max(sepallendth)\n",
    "valor_minimo = np.min(sepallendth)\n",
    "\n",
    "print(f'Maximo = {valor_maximo} - Minimo = {valor_minimo}')\n",
    "\n",
    "sepallendth = (sepallendth - valor_minimo) / (valor_maximo - valor_minimo)\n",
    "print(sepallendth)"
   ]
  },
  {
   "cell_type": "code",
   "execution_count": 28,
   "metadata": {},
   "outputs": [
    {
     "name": "stdout",
     "output_type": "stream",
     "text": [
      " O 5º percentil é: 4.60 e ó 95° Percentil é: 7.25\n",
      "Vetor Percentil: [4.6   7.255]\n"
     ]
    }
   ],
   "source": [
    "# Exercício 12\n",
    "import numpy as np\n",
    "\n",
    "url = 'https://archive.ics.uci.edu/ml/machine-learning-databases/iris/iris.data'\n",
    "iris = np.genfromtxt(url, delimiter=',', dtype='object', encoding='ascii')\n",
    "\n",
    "sepallendth = iris[:, 0].astype(float)\n",
    "\n",
    "print(f' O 5º percentil é: {np.percentile(sepallendth, 5):.2f} e ó 95° Percentil é: {np.percentile(sepallendth, 95):.2f}')\n",
    "\n",
    "print(f'Vetor Percentil: {np.percentile(sepallendth, q=[5, 95])}')\n"
   ]
  },
  {
   "cell_type": "code",
   "execution_count": 41,
   "metadata": {},
   "outputs": [
    {
     "name": "stdout",
     "output_type": "stream",
     "text": [
      "Quantidade de Valores Ausentes: 5\n",
      "Posição dos Valores Ausentes: (array([ 15,  77, 116, 135, 144], dtype=int64),)\n"
     ]
    }
   ],
   "source": [
    "# Exercício 13\n",
    "import numpy as np\n",
    "\n",
    "url = 'https://archive.ics.uci.edu/ml/machine-learning-databases/iris/iris.data'\n",
    "iris_2d = np.genfromtxt(url, delimiter=',', dtype='float')\n",
    "iris_2d[np.random.randint(150, size= 20), np.random.randint(4, size = 20)] = np.nan\n",
    "\n",
    "sepallendth = iris_2d[:, 0].astype(float)\n",
    "\n",
    "print(f'Quantidade de Valores Ausentes: {np.isnan(sepallendth).sum()}')\n",
    "print(f'Posição dos Valores Ausentes: {np.where(np.isnan(sepallendth))}')\n"
   ]
  },
  {
   "cell_type": "code",
   "execution_count": 3,
   "metadata": {},
   "outputs": [
    {
     "data": {
      "text/plain": [
       "array([[4.8, 3.4, 1.6, 0.2],\n",
       "       [4.8, 3.4, 1.9, 0.2],\n",
       "       [4.7, 3.2, 1.6, 0.2],\n",
       "       [4.8, 3.1, 1.6, 0.2],\n",
       "       [4.9, 2.4, 3.3, 1. ],\n",
       "       [4.9, 2.5, 4.5, 1.7]])"
      ]
     },
     "execution_count": 3,
     "metadata": {},
     "output_type": "execute_result"
    }
   ],
   "source": [
    "# Exercício 14\n",
    "import numpy as np\n",
    "\n",
    "url = 'https://archive.ics.uci.edu/ml/machine-learning-databases/iris/iris.data'\n",
    "iris_2d = np.genfromtxt(url, delimiter=',', dtype='float', usecols=[0, 1, 2, 3], encoding='ascii')\n",
    "\n",
    "condicao = (iris_2d[:, 2] > 1.5) & (iris_2d[:, 0] < 5.0)\n",
    "iris_2d[condicao]\n"
   ]
  },
  {
   "cell_type": "code",
   "execution_count": 12,
   "metadata": {},
   "outputs": [
    {
     "data": {
      "text/plain": [
       "array([[5.1, 3.5, 1.4, 0.2],\n",
       "       [4.7, 3.2, 1.3, 0.2],\n",
       "       [4.6, 3.1, 1.5, 0.2],\n",
       "       [5. , 3.6, 1.4, 0.2],\n",
       "       [5.4, 3.9, 1.7, 0.4]])"
      ]
     },
     "execution_count": 12,
     "metadata": {},
     "output_type": "execute_result"
    }
   ],
   "source": [
    "# Exercício 15\n",
    "import numpy as np\n",
    "\n",
    "url = 'https://archive.ics.uci.edu/ml/machine-learning-databases/iris/iris.data'\n",
    "iris_2d = np.genfromtxt(url, delimiter=',', dtype='float', usecols=[0, 1, 2, 3], encoding='ascii')\n",
    "iris_2d[np.random.randint(150, size= 20), np.random.randint(4, size = 20)] = np.nan\n",
    "\n",
    "any_nan_in_row = np.array([~np.any(np.isnan(row)) for row in iris_2d])\n",
    "iris_2d[any_nan_in_row][:5]"
   ]
  },
  {
   "cell_type": "code",
   "execution_count": 15,
   "metadata": {},
   "outputs": [
    {
     "name": "stdout",
     "output_type": "stream",
     "text": [
      "A correlação é: [0.87175416]\n"
     ]
    }
   ],
   "source": [
    "# Exercício 16\n",
    "import numpy as np\n",
    "\n",
    "url = 'https://archive.ics.uci.edu/ml/machine-learning-databases/iris/iris.data'\n",
    "iris_2d = np.genfromtxt(url, delimiter=',', dtype='float')\n",
    "\n",
    "print(f'A correlação é: {np.corrcoef(iris_2d[:, 0].astype(float), iris_2d[:, 2].astype(float))[1:2,0]}')"
   ]
  },
  {
   "cell_type": "code",
   "execution_count": 32,
   "metadata": {},
   "outputs": [
    {
     "name": "stdout",
     "output_type": "stream",
     "text": [
      "False\n"
     ]
    }
   ],
   "source": [
    "# Exercício 17\n",
    "\n",
    "url = 'https://archive.ics.uci.edu/ml/machine-learning-databases/iris/iris.data'\n",
    "iris_2d = np.genfromtxt(url, delimiter=',', dtype='float', usecols=[0,1,2,3])\n",
    "\n",
    "condicao = np.isnan(iris_2d)\n",
    "if True in condicao:\n",
    "    print(f'True')\n",
    "else:\n",
    "    print(f'False')\n"
   ]
  },
  {
   "cell_type": "code",
   "execution_count": 34,
   "metadata": {},
   "outputs": [
    {
     "name": "stdout",
     "output_type": "stream",
     "text": [
      "[[5.1 3.5 0.  0.2]\n",
      " [0.  3.  1.4 0.2]\n",
      " [4.7 3.2 1.3 0.2]\n",
      " [4.6 3.1 1.5 0.2]\n",
      " [5.  3.6 1.4 0.2]\n",
      " [5.4 3.9 1.7 0.4]\n",
      " [4.6 3.4 1.4 0.3]\n",
      " [5.  3.4 1.5 0.2]\n",
      " [4.4 2.9 1.4 0.2]\n",
      " [4.9 3.1 1.5 0.1]\n",
      " [5.4 3.7 1.5 0.2]\n",
      " [4.8 3.4 1.6 0. ]\n",
      " [4.8 3.  1.4 0.1]\n",
      " [0.  3.  0.  0.1]\n",
      " [5.8 4.  1.2 0.2]\n",
      " [5.7 4.4 1.5 0.4]\n",
      " [5.4 3.9 1.3 0.4]\n",
      " [5.1 3.5 1.4 0.3]\n",
      " [5.7 3.8 1.7 0.3]\n",
      " [5.1 3.8 1.5 0.3]\n",
      " [5.4 3.4 1.7 0.2]\n",
      " [5.1 3.7 1.5 0.4]\n",
      " [4.6 3.6 1.  0.2]\n",
      " [5.1 3.3 1.7 0.5]\n",
      " [4.8 3.4 1.9 0.2]\n",
      " [5.  3.  1.6 0.2]\n",
      " [5.  3.4 1.6 0.4]\n",
      " [5.2 3.5 1.5 0.2]\n",
      " [5.2 3.4 1.4 0.2]\n",
      " [4.7 3.2 1.6 0.2]\n",
      " [4.8 3.1 1.6 0.2]\n",
      " [5.4 3.4 1.5 0.4]\n",
      " [5.2 4.1 1.5 0.1]\n",
      " [5.5 4.2 1.4 0.2]\n",
      " [4.9 3.1 1.5 0.1]\n",
      " [5.  3.2 1.2 0.2]\n",
      " [5.5 3.5 1.3 0.2]\n",
      " [4.9 3.1 1.5 0.1]\n",
      " [4.4 3.  1.3 0.2]\n",
      " [5.1 3.4 1.5 0.2]\n",
      " [0.  3.5 1.3 0.3]\n",
      " [4.5 2.3 1.3 0.3]\n",
      " [4.4 3.2 1.3 0.2]\n",
      " [5.  3.5 1.6 0.6]\n",
      " [5.1 3.8 1.9 0.4]\n",
      " [4.8 3.  1.4 0.3]\n",
      " [5.1 3.8 1.6 0.2]\n",
      " [4.6 3.2 1.4 0.2]\n",
      " [5.3 3.7 1.5 0.2]\n",
      " [5.  3.3 1.4 0.2]\n",
      " [7.  3.2 4.7 1.4]\n",
      " [6.4 3.2 4.5 1.5]\n",
      " [6.9 3.1 4.9 1.5]\n",
      " [5.5 2.3 4.  1.3]\n",
      " [6.5 0.  4.6 1.5]\n",
      " [5.7 2.8 4.5 1.3]\n",
      " [6.3 3.3 4.7 1.6]\n",
      " [4.9 2.4 3.3 1. ]\n",
      " [6.6 2.9 4.6 1.3]\n",
      " [5.2 2.7 3.9 1.4]\n",
      " [5.  2.  3.5 1. ]\n",
      " [5.9 0.  4.2 1.5]\n",
      " [6.  2.2 4.  1. ]\n",
      " [6.1 2.9 4.7 1.4]\n",
      " [5.6 2.9 3.6 1.3]\n",
      " [6.7 3.1 4.4 1.4]\n",
      " [5.6 3.  4.5 1.5]\n",
      " [5.8 2.7 4.1 1. ]\n",
      " [6.2 2.2 4.5 1.5]\n",
      " [5.6 2.5 3.9 0. ]\n",
      " [5.9 3.2 4.8 1.8]\n",
      " [6.1 2.8 4.  1.3]\n",
      " [6.3 2.5 4.9 1.5]\n",
      " [6.1 2.8 4.7 1.2]\n",
      " [6.4 2.9 4.3 1.3]\n",
      " [6.6 3.  4.4 1.4]\n",
      " [6.8 2.8 4.8 1.4]\n",
      " [6.7 3.  5.  1.7]\n",
      " [6.  2.9 4.5 1.5]\n",
      " [5.7 2.6 3.5 0. ]\n",
      " [5.5 2.4 3.8 1.1]\n",
      " [5.5 2.4 3.7 1. ]\n",
      " [5.8 2.7 3.9 1.2]\n",
      " [6.  2.7 5.1 1.6]\n",
      " [5.4 3.  4.5 1.5]\n",
      " [6.  3.4 4.5 1.6]\n",
      " [6.7 3.1 4.7 1.5]\n",
      " [6.3 2.3 4.4 1.3]\n",
      " [5.6 3.  4.1 1.3]\n",
      " [5.5 2.5 4.  1.3]\n",
      " [5.5 2.6 4.4 1.2]\n",
      " [6.1 3.  4.6 1.4]\n",
      " [5.8 2.6 4.  1.2]\n",
      " [5.  2.3 3.3 1. ]\n",
      " [5.6 2.7 4.2 1.3]\n",
      " [5.7 3.  4.2 1.2]\n",
      " [5.7 2.9 4.2 1.3]\n",
      " [6.2 2.9 4.3 1.3]\n",
      " [5.1 2.5 3.  1.1]\n",
      " [5.7 2.8 4.1 1.3]\n",
      " [6.3 3.3 6.  2.5]\n",
      " [5.8 2.7 5.1 1.9]\n",
      " [7.1 3.  5.9 2.1]\n",
      " [6.3 2.9 5.6 1.8]\n",
      " [6.5 3.  5.8 2.2]\n",
      " [7.6 3.  6.6 2.1]\n",
      " [4.9 2.5 4.5 1.7]\n",
      " [7.3 2.9 6.3 1.8]\n",
      " [6.7 2.5 5.8 1.8]\n",
      " [7.2 3.6 6.1 2.5]\n",
      " [6.5 3.2 5.1 2. ]\n",
      " [6.4 2.7 5.3 1.9]\n",
      " [6.8 3.  5.5 2.1]\n",
      " [5.7 2.5 5.  2. ]\n",
      " [5.8 2.8 5.1 2.4]\n",
      " [6.4 3.2 5.3 0. ]\n",
      " [6.5 3.  5.5 1.8]\n",
      " [7.7 3.8 6.7 2.2]\n",
      " [7.7 2.6 6.9 2.3]\n",
      " [6.  2.2 5.  0. ]\n",
      " [0.  3.2 5.7 2.3]\n",
      " [5.6 2.8 4.9 2. ]\n",
      " [7.7 2.8 6.7 2. ]\n",
      " [6.3 0.  4.9 1.8]\n",
      " [6.7 3.3 5.7 2.1]\n",
      " [7.2 0.  6.  1.8]\n",
      " [6.2 2.8 4.8 1.8]\n",
      " [6.1 3.  4.9 1.8]\n",
      " [6.4 2.8 5.6 2.1]\n",
      " [7.2 3.  5.8 1.6]\n",
      " [7.4 2.8 6.1 1.9]\n",
      " [7.9 3.8 6.4 2. ]\n",
      " [6.4 2.8 5.6 2.2]\n",
      " [6.3 2.8 5.1 1.5]\n",
      " [6.1 2.6 5.6 1.4]\n",
      " [7.7 3.  6.1 2.3]\n",
      " [6.3 3.4 5.6 2.4]\n",
      " [6.4 3.1 5.5 1.8]\n",
      " [6.  3.  4.8 1.8]\n",
      " [6.9 3.1 5.4 2.1]\n",
      " [6.7 3.1 5.6 2.4]\n",
      " [6.9 3.1 5.1 2.3]\n",
      " [5.8 2.7 5.1 1.9]\n",
      " [6.8 3.2 5.9 2.3]\n",
      " [6.7 3.3 5.7 2.5]\n",
      " [0.  3.  5.2 2.3]\n",
      " [6.3 0.  5.  1.9]\n",
      " [6.5 0.  5.2 2. ]\n",
      " [6.2 3.4 5.4 2.3]\n",
      " [5.9 3.  5.1 1.8]]\n"
     ]
    }
   ],
   "source": [
    "# Exercício 18\n",
    "url = 'https://archive.ics.uci.edu/ml/machine-learning-databases/iris/iris.data'\n",
    "iris_2d = np.genfromtxt(url, delimiter=',', dtype='float', usecols=[0,1,2,3])\n",
    "iris_2d[np.random.randint(150, size=20), np.random.randint(4, size=20)] = np.nan\n",
    "\n",
    "print(np.nan_to_num(iris_2d))"
   ]
  },
  {
   "cell_type": "code",
   "execution_count": 35,
   "metadata": {},
   "outputs": [
    {
     "name": "stdout",
     "output_type": "stream",
     "text": [
      "{b'Iris-versicolor', b'Iris-setosa', b'Iris-virginica'}\n"
     ]
    }
   ],
   "source": [
    "# Exercício 19\n",
    "import numpy as np\n",
    "\n",
    "url = 'https://archive.ics.uci.edu/ml/machine-learning-databases/iris/iris.data'\n",
    "iris = np.genfromtxt(url, delimiter=',', dtype='object')\n",
    "names = ('sepallength', 'sepalwidth', 'petallength', 'petalwidth', 'species')\n",
    "\n",
    "valores_unicos = set(iris[:,4])\n",
    "\n",
    "print(valores_unicos)"
   ]
  },
  {
   "cell_type": "code",
   "execution_count": 1,
   "metadata": {},
   "outputs": [
    {
     "name": "stdout",
     "output_type": "stream",
     "text": [
      "['Pequena' 'Pequena' 'Pequena' 'Pequena' 'Pequena' 'Pequena' 'Pequena'\n",
      " 'Pequena' 'Pequena' 'Pequena' 'Pequena' 'Pequena' 'Pequena' 'Pequena'\n",
      " 'Pequena' 'Pequena' 'Pequena' 'Pequena' 'Pequena' 'Pequena' 'Pequena'\n",
      " 'Pequena' 'Pequena' 'Pequena' 'Pequena' 'Pequena' 'Pequena' 'Pequena'\n",
      " 'Pequena' 'Pequena' 'Pequena' 'Pequena' 'Pequena' 'Pequena' 'Pequena'\n",
      " 'Pequena' 'Pequena' 'Pequena' 'Pequena' 'Pequena' 'Pequena' 'Pequena'\n",
      " 'Pequena' 'Pequena' 'Pequena' 'Pequena' 'Pequena' 'Pequena' 'Pequena'\n",
      " 'Pequena' 'Média' 'Média' 'Média' 'Média' 'Média' 'Média' 'Média' 'Média'\n",
      " 'Média' 'Média' 'Média' 'Média' 'Média' 'Média' 'Média' 'Média' 'Média'\n",
      " 'Média' 'Média' 'Média' 'Média' 'Média' 'Média' 'Média' 'Média' 'Média'\n",
      " 'Média' 'Grande' 'Média' 'Média' 'Média' 'Média' 'Média' 'Grande' 'Média'\n",
      " 'Média' 'Média' 'Média' 'Média' 'Média' 'Média' 'Média' 'Média' 'Média'\n",
      " 'Média' 'Média' 'Média' 'Média' 'Média' 'Média' 'Grande' 'Grande'\n",
      " 'Grande' 'Grande' 'Grande' 'Grande' 'Média' 'Grande' 'Grande' 'Grande'\n",
      " 'Grande' 'Grande' 'Grande' 'Grande' 'Grande' 'Grande' 'Grande' 'Grande'\n",
      " 'Grande' 'Grande' 'Grande' 'Média' 'Grande' 'Média' 'Grande' 'Grande'\n",
      " 'Média' 'Média' 'Grande' 'Grande' 'Grande' 'Grande' 'Grande' 'Grande'\n",
      " 'Grande' 'Grande' 'Grande' 'Grande' 'Média' 'Grande' 'Grande' 'Grande'\n",
      " 'Grande' 'Grande' 'Grande' 'Grande' 'Grande' 'Grande' 'Grande' 'Grande']\n"
     ]
    }
   ],
   "source": [
    "# Exercício 20\n",
    "import numpy as np\n",
    "\n",
    "url = 'https://archive.ics.uci.edu/ml/machine-learning-databases/iris/iris.data'\n",
    "iris = np.genfromtxt(url, delimiter=',', dtype='object')\n",
    "names = ('sepallength', 'sepalwidth', 'petallength', 'petalwidth', 'species')\n",
    "\n",
    "dt = iris[:,2].astype(float)\n",
    "np.place(dt , dt  > 5, 5)\n",
    "np.place(dt , dt  < 3, 6)\n",
    "np.place(dt , dt  < 5, 4)\n",
    "\n",
    "dt = dt.astype(str)\n",
    "\n",
    "dt  = np.where(dt == '5.0','Grande', dt)\n",
    "dt  = np.where(dt == '6.0','Pequena', dt)\n",
    "dt  = np.where(dt == '4.0','Média', dt)\n",
    "\n",
    "print(dt)\n"
   ]
  },
  {
   "cell_type": "code",
   "execution_count": 3,
   "metadata": {},
   "outputs": [
    {
     "name": "stdout",
     "output_type": "stream",
     "text": [
      "[ 38.13265163  35.20049849  30.07237208  33.23805027  36.65191429\n",
      "  51.91167701  31.02218026  39.26990817  28.38324243  37.71481981\n",
      "  45.80442089  38.60389053  33.77840421  21.29895099  42.27327075\n",
      "  51.03517266  39.69716477  38.13265163  57.83986235  40.85641246\n",
      "  51.91167701  40.85641246  22.15870018  46.30393412  45.84212\n",
      "  41.88790205  41.88790205  42.47433268  39.6427105   37.01215025\n",
      "  38.60389053  45.80442089  42.47433268  44.34881629  37.71481981\n",
      "  31.41592654  41.1810437   37.71481981  26.35586797  40.85641246\n",
      "  34.03392041  27.56747554  26.35586797  41.88790205  51.75145578\n",
      "  33.77840421  43.58017329  31.02218026  44.12366882  36.65191429\n",
      " 241.16959604 193.01945264 244.29966952 126.71090369 203.52284408\n",
      " 153.10551797 195.34737279  82.97260357 209.83325652 110.43326496\n",
      "  91.62978573 153.10237638 150.79644737 183.14123814 118.22441474\n",
      " 206.83827152 147.78051842 144.43367505 181.14423241 128.0764493\n",
      " 174.97414443 155.86488352 203.66002695 183.14123814 184.4408103\n",
      " 200.71007145 232.42759088 235.04349037 169.64600329 119.08206953\n",
      " 120.37535851 117.20758592 137.38812993 192.2654704  137.41326267\n",
      " 169.64600329 220.94088094 182.87839155 134.64447234 126.71090369\n",
      " 139.38199406 179.24461605 140.91090249  86.39379797 137.92848386\n",
      " 142.89848344 142.89848344 173.09337763  81.71282492 139.4961386\n",
      " 249.37962484 179.66140067 311.45644848 232.75431652 256.61575992\n",
      " 399.20846168 113.14445942 351.57249227 272.65044882 331.14899843\n",
      " 225.64489234 227.33402199 266.32328122 170.11724219 179.66140067\n",
      " 227.33402199 243.34253096 415.99189683 428.40956539 188.49555922\n",
      " 284.18532985 160.91656451 415.99189683 203.66002695 267.94957902\n",
      " 325.72032632 193.22051457 190.93448231 240.2019855  314.86298211\n",
      " 349.80168121 418.27583469 240.2019855  211.97268112 218.21083693\n",
      " 378.73889114 232.75431652 235.91266433 180.95573685 269.22820723\n",
      " 263.24870921 254.2710846  179.66140067 285.69224713 267.94957902\n",
      " 244.44522998 207.81635403 230.069302   217.37307889 185.91002846]\n"
     ]
    }
   ],
   "source": [
    "# Exercício 21\n",
    "import numpy as np\n",
    "\n",
    "url = 'https://archive.ics.uci.edu/ml/machine-learning-databases/iris/iris.data'\n",
    "iris_2d = np.genfromtxt(url, delimiter=',', dtype='object')\n",
    "nomes = ('sepallength', 'sepalwidth', 'petallength', 'petalwidth', 'species')\n",
    "\n",
    "volume = (np.pi * iris_2d[:, 2].astype(float) * iris_2d[:, 0].astype(float) ** 2)/3\n",
    "\n",
    "print(volume)"
   ]
  },
  {
   "cell_type": "code",
   "execution_count": 5,
   "metadata": {},
   "outputs": [
    {
     "name": "stdout",
     "output_type": "stream",
     "text": [
      "b'1.9'\n"
     ]
    }
   ],
   "source": [
    "# Exercício 22\n",
    "import numpy as np\n",
    "\n",
    "\n",
    "url = 'https://archive.ics.uci.edu/ml/machine-learning-databases/iris/iris.data'\n",
    "iris = np.genfromtxt(url, delimiter=',', dtype='object', usecols=[2, 4])\n",
    "nomes = ('sepallength', 'sepalwidth', 'petallength', 'petalwidth', 'species')\n",
    "\n",
    "sertosa = (iris[iris[:, 1]==b'Iris-setosa'])[:, 0]\n",
    "sertora_segundo_maior = np.sort(sertosa)[-2]\n",
    "\n",
    "print(sertora_segundo_maior)\n"
   ]
  },
  {
   "cell_type": "code",
   "execution_count": 6,
   "metadata": {},
   "outputs": [
    {
     "name": "stdout",
     "output_type": "stream",
     "text": [
      "[[4.3 b'2.0' b'1.0' b'0.1' b'Iris-setosa']\n",
      " [4.4 b'2.2' b'1.1' b'0.1' b'Iris-setosa']\n",
      " [4.4 b'2.2' b'1.2' b'0.1' b'Iris-setosa']\n",
      " [4.4 b'2.2' b'1.2' b'0.1' b'Iris-setosa']\n",
      " [4.5 b'2.3' b'1.3' b'0.1' b'Iris-setosa']\n",
      " [4.6 b'2.3' b'1.3' b'0.1' b'Iris-setosa']\n",
      " [4.6 b'2.3' b'1.3' b'0.2' b'Iris-setosa']\n",
      " [4.6 b'2.3' b'1.3' b'0.2' b'Iris-setosa']\n",
      " [4.6 b'2.4' b'1.3' b'0.2' b'Iris-setosa']\n",
      " [4.7 b'2.4' b'1.3' b'0.2' b'Iris-setosa']\n",
      " [4.7 b'2.4' b'1.3' b'0.2' b'Iris-setosa']\n",
      " [4.8 b'2.5' b'1.4' b'0.2' b'Iris-setosa']\n",
      " [4.8 b'2.5' b'1.4' b'0.2' b'Iris-setosa']\n",
      " [4.8 b'2.5' b'1.4' b'0.2' b'Iris-setosa']\n",
      " [4.8 b'2.5' b'1.4' b'0.2' b'Iris-setosa']\n",
      " [4.8 b'2.5' b'1.4' b'0.2' b'Iris-setosa']\n",
      " [4.9 b'2.5' b'1.4' b'0.2' b'Iris-setosa']\n",
      " [4.9 b'2.5' b'1.4' b'0.2' b'Iris-setosa']\n",
      " [4.9 b'2.5' b'1.4' b'0.2' b'Iris-setosa']\n",
      " [4.9 b'2.6' b'1.4' b'0.2' b'Iris-setosa']\n",
      " [4.9 b'2.6' b'1.4' b'0.2' b'Iris-setosa']\n",
      " [4.9 b'2.6' b'1.4' b'0.2' b'Iris-setosa']\n",
      " [5.0 b'2.6' b'1.4' b'0.2' b'Iris-setosa']\n",
      " [5.0 b'2.6' b'1.5' b'0.2' b'Iris-setosa']\n",
      " [5.0 b'2.7' b'1.5' b'0.2' b'Iris-setosa']\n",
      " [5.0 b'2.7' b'1.5' b'0.2' b'Iris-setosa']\n",
      " [5.0 b'2.7' b'1.5' b'0.2' b'Iris-setosa']\n",
      " [5.0 b'2.7' b'1.5' b'0.2' b'Iris-setosa']\n",
      " [5.0 b'2.7' b'1.5' b'0.2' b'Iris-setosa']\n",
      " [5.0 b'2.7' b'1.5' b'0.2' b'Iris-setosa']\n",
      " [5.0 b'2.7' b'1.5' b'0.2' b'Iris-setosa']\n",
      " [5.0 b'2.7' b'1.5' b'0.2' b'Iris-setosa']\n",
      " [5.1 b'2.7' b'1.5' b'0.2' b'Iris-setosa']\n",
      " [5.1 b'2.8' b'1.5' b'0.2' b'Iris-setosa']\n",
      " [5.1 b'2.8' b'1.5' b'0.3' b'Iris-setosa']\n",
      " [5.1 b'2.8' b'1.5' b'0.3' b'Iris-setosa']\n",
      " [5.1 b'2.8' b'1.5' b'0.3' b'Iris-setosa']\n",
      " [5.1 b'2.8' b'1.6' b'0.3' b'Iris-setosa']\n",
      " [5.1 b'2.8' b'1.6' b'0.3' b'Iris-setosa']\n",
      " [5.1 b'2.8' b'1.6' b'0.3' b'Iris-setosa']\n",
      " [5.1 b'2.8' b'1.6' b'0.3' b'Iris-setosa']\n",
      " [5.2 b'2.8' b'1.6' b'0.4' b'Iris-setosa']\n",
      " [5.2 b'2.8' b'1.6' b'0.4' b'Iris-setosa']\n",
      " [5.2 b'2.8' b'1.6' b'0.4' b'Iris-setosa']\n",
      " [5.2 b'2.8' b'1.7' b'0.4' b'Iris-setosa']\n",
      " [5.3 b'2.8' b'1.7' b'0.4' b'Iris-setosa']\n",
      " [5.4 b'2.8' b'1.7' b'0.4' b'Iris-setosa']\n",
      " [5.4 b'2.9' b'1.7' b'0.4' b'Iris-setosa']\n",
      " [5.4 b'2.9' b'1.9' b'0.5' b'Iris-setosa']\n",
      " [5.4 b'2.9' b'1.9' b'0.6' b'Iris-setosa']\n",
      " [5.4 b'2.9' b'3.0' b'1.0' b'Iris-versicolor']\n",
      " [5.4 b'2.9' b'3.3' b'1.0' b'Iris-versicolor']\n",
      " [5.5 b'2.9' b'3.3' b'1.0' b'Iris-versicolor']\n",
      " [5.5 b'2.9' b'3.5' b'1.0' b'Iris-versicolor']\n",
      " [5.5 b'2.9' b'3.5' b'1.0' b'Iris-versicolor']\n",
      " [5.5 b'2.9' b'3.6' b'1.0' b'Iris-versicolor']\n",
      " [5.5 b'2.9' b'3.7' b'1.0' b'Iris-versicolor']\n",
      " [5.5 b'3.0' b'3.8' b'1.1' b'Iris-versicolor']\n",
      " [5.5 b'3.0' b'3.9' b'1.1' b'Iris-versicolor']\n",
      " [5.6 b'3.0' b'3.9' b'1.1' b'Iris-versicolor']\n",
      " [5.6 b'3.0' b'3.9' b'1.2' b'Iris-versicolor']\n",
      " [5.6 b'3.0' b'4.0' b'1.2' b'Iris-versicolor']\n",
      " [5.6 b'3.0' b'4.0' b'1.2' b'Iris-versicolor']\n",
      " [5.6 b'3.0' b'4.0' b'1.2' b'Iris-versicolor']\n",
      " [5.6 b'3.0' b'4.0' b'1.2' b'Iris-versicolor']\n",
      " [5.7 b'3.0' b'4.0' b'1.3' b'Iris-versicolor']\n",
      " [5.7 b'3.0' b'4.1' b'1.3' b'Iris-versicolor']\n",
      " [5.7 b'3.0' b'4.1' b'1.3' b'Iris-versicolor']\n",
      " [5.7 b'3.0' b'4.1' b'1.3' b'Iris-versicolor']\n",
      " [5.7 b'3.0' b'4.2' b'1.3' b'Iris-versicolor']\n",
      " [5.7 b'3.0' b'4.2' b'1.3' b'Iris-versicolor']\n",
      " [5.7 b'3.0' b'4.2' b'1.3' b'Iris-versicolor']\n",
      " [5.7 b'3.0' b'4.2' b'1.3' b'Iris-versicolor']\n",
      " [5.8 b'3.0' b'4.3' b'1.3' b'Iris-versicolor']\n",
      " [5.8 b'3.0' b'4.3' b'1.3' b'Iris-versicolor']\n",
      " [5.8 b'3.0' b'4.4' b'1.3' b'Iris-versicolor']\n",
      " [5.8 b'3.0' b'4.4' b'1.3' b'Iris-versicolor']\n",
      " [5.8 b'3.0' b'4.4' b'1.3' b'Iris-versicolor']\n",
      " [5.8 b'3.0' b'4.4' b'1.4' b'Iris-versicolor']\n",
      " [5.8 b'3.0' b'4.5' b'1.4' b'Iris-versicolor']\n",
      " [5.9 b'3.0' b'4.5' b'1.4' b'Iris-versicolor']\n",
      " [5.9 b'3.0' b'4.5' b'1.4' b'Iris-versicolor']\n",
      " [5.9 b'3.0' b'4.5' b'1.4' b'Iris-versicolor']\n",
      " [6.0 b'3.1' b'4.5' b'1.4' b'Iris-versicolor']\n",
      " [6.0 b'3.1' b'4.5' b'1.4' b'Iris-versicolor']\n",
      " [6.0 b'3.1' b'4.5' b'1.4' b'Iris-versicolor']\n",
      " [6.0 b'3.1' b'4.5' b'1.5' b'Iris-versicolor']\n",
      " [6.0 b'3.1' b'4.6' b'1.5' b'Iris-versicolor']\n",
      " [6.0 b'3.1' b'4.6' b'1.5' b'Iris-versicolor']\n",
      " [6.1 b'3.1' b'4.6' b'1.5' b'Iris-versicolor']\n",
      " [6.1 b'3.1' b'4.7' b'1.5' b'Iris-versicolor']\n",
      " [6.1 b'3.1' b'4.7' b'1.5' b'Iris-versicolor']\n",
      " [6.1 b'3.1' b'4.7' b'1.5' b'Iris-versicolor']\n",
      " [6.1 b'3.1' b'4.7' b'1.5' b'Iris-versicolor']\n",
      " [6.1 b'3.1' b'4.7' b'1.5' b'Iris-versicolor']\n",
      " [6.2 b'3.2' b'4.8' b'1.5' b'Iris-versicolor']\n",
      " [6.2 b'3.2' b'4.8' b'1.5' b'Iris-versicolor']\n",
      " [6.2 b'3.2' b'4.8' b'1.5' b'Iris-versicolor']\n",
      " [6.2 b'3.2' b'4.8' b'1.6' b'Iris-versicolor']\n",
      " [6.3 b'3.2' b'4.9' b'1.6' b'Iris-versicolor']\n",
      " [6.3 b'3.2' b'4.9' b'1.6' b'Iris-virginica']\n",
      " [6.3 b'3.2' b'4.9' b'1.6' b'Iris-virginica']\n",
      " [6.3 b'3.2' b'4.9' b'1.7' b'Iris-virginica']\n",
      " [6.3 b'3.2' b'4.9' b'1.7' b'Iris-virginica']\n",
      " [6.3 b'3.2' b'5.0' b'1.8' b'Iris-virginica']\n",
      " [6.3 b'3.2' b'5.0' b'1.8' b'Iris-virginica']\n",
      " [6.3 b'3.2' b'5.0' b'1.8' b'Iris-virginica']\n",
      " [6.3 b'3.2' b'5.0' b'1.8' b'Iris-virginica']\n",
      " [6.4 b'3.3' b'5.1' b'1.8' b'Iris-virginica']\n",
      " [6.4 b'3.3' b'5.1' b'1.8' b'Iris-virginica']\n",
      " [6.4 b'3.3' b'5.1' b'1.8' b'Iris-virginica']\n",
      " [6.4 b'3.3' b'5.1' b'1.8' b'Iris-virginica']\n",
      " [6.4 b'3.3' b'5.1' b'1.8' b'Iris-virginica']\n",
      " [6.4 b'3.3' b'5.1' b'1.8' b'Iris-virginica']\n",
      " [6.4 b'3.4' b'5.1' b'1.8' b'Iris-virginica']\n",
      " [6.5 b'3.4' b'5.1' b'1.8' b'Iris-virginica']\n",
      " [6.5 b'3.4' b'5.2' b'1.9' b'Iris-virginica']\n",
      " [6.5 b'3.4' b'5.2' b'1.9' b'Iris-virginica']\n",
      " [6.5 b'3.4' b'5.3' b'1.9' b'Iris-virginica']\n",
      " [6.5 b'3.4' b'5.3' b'1.9' b'Iris-virginica']\n",
      " [6.6 b'3.4' b'5.4' b'1.9' b'Iris-virginica']\n",
      " [6.6 b'3.4' b'5.4' b'2.0' b'Iris-virginica']\n",
      " [6.7 b'3.4' b'5.5' b'2.0' b'Iris-virginica']\n",
      " [6.7 b'3.4' b'5.5' b'2.0' b'Iris-virginica']\n",
      " [6.7 b'3.4' b'5.5' b'2.0' b'Iris-virginica']\n",
      " [6.7 b'3.4' b'5.6' b'2.0' b'Iris-virginica']\n",
      " [6.7 b'3.5' b'5.6' b'2.0' b'Iris-virginica']\n",
      " [6.7 b'3.5' b'5.6' b'2.1' b'Iris-virginica']\n",
      " [6.7 b'3.5' b'5.6' b'2.1' b'Iris-virginica']\n",
      " [6.7 b'3.5' b'5.6' b'2.1' b'Iris-virginica']\n",
      " [6.8 b'3.5' b'5.6' b'2.1' b'Iris-virginica']\n",
      " [6.8 b'3.5' b'5.7' b'2.1' b'Iris-virginica']\n",
      " [6.8 b'3.6' b'5.7' b'2.1' b'Iris-virginica']\n",
      " [6.9 b'3.6' b'5.7' b'2.2' b'Iris-virginica']\n",
      " [6.9 b'3.6' b'5.8' b'2.2' b'Iris-virginica']\n",
      " [6.9 b'3.7' b'5.8' b'2.2' b'Iris-virginica']\n",
      " [6.9 b'3.7' b'5.8' b'2.3' b'Iris-virginica']\n",
      " [7.0 b'3.7' b'5.9' b'2.3' b'Iris-virginica']\n",
      " [7.1 b'3.8' b'5.9' b'2.3' b'Iris-virginica']\n",
      " [7.2 b'3.8' b'6.0' b'2.3' b'Iris-virginica']\n",
      " [7.2 b'3.8' b'6.0' b'2.3' b'Iris-virginica']\n",
      " [7.2 b'3.8' b'6.1' b'2.3' b'Iris-virginica']\n",
      " [7.3 b'3.8' b'6.1' b'2.3' b'Iris-virginica']\n",
      " [7.4 b'3.8' b'6.1' b'2.3' b'Iris-virginica']\n",
      " [7.6 b'3.9' b'6.3' b'2.4' b'Iris-virginica']\n",
      " [7.7 b'3.9' b'6.4' b'2.4' b'Iris-virginica']\n",
      " [7.7 b'4.0' b'6.6' b'2.4' b'Iris-virginica']\n",
      " [7.7 b'4.1' b'6.7' b'2.5' b'Iris-virginica']\n",
      " [7.7 b'4.2' b'6.7' b'2.5' b'Iris-virginica']\n",
      " [7.9 b'4.4' b'6.9' b'2.5' b'Iris-virginica']]\n"
     ]
    }
   ],
   "source": [
    "# Exercício 23\n",
    "\n",
    "import numpy as np\n",
    "\n",
    "\n",
    "url = 'https://archive.ics.uci.edu/ml/machine-learning-databases/iris/iris.data'\n",
    "iris = np.genfromtxt(url, delimiter=',', dtype='object')\n",
    "nomes = ('sepallength', 'sepalwidth', 'petallength', 'petalwidth', 'species')\n",
    "\n",
    "iris[:,0] = iris[:, 0].astype(float)\n",
    "\n",
    "iris.sort(axis=0)\n",
    "\n",
    "print(iris)"
   ]
  },
  {
   "cell_type": "code",
   "execution_count": 4,
   "metadata": {},
   "outputs": [
    {
     "name": "stdout",
     "output_type": "stream",
     "text": [
      "O Valor mais frequênte da coluna petallength é b'1.5' com um total de 14 repetições\n"
     ]
    }
   ],
   "source": [
    "# Exercício 24\n",
    "import numpy as np\n",
    "\n",
    "url = 'https://archive.ics.uci.edu/ml/machine-learning-databases/iris/iris.data'\n",
    "iris = np.genfromtxt(url, delimiter=',', dtype='object')\n",
    "nomes = ('sepallength', 'sepalwidth', 'petallength', 'petalwidth', 'species')\n",
    "\n",
    "petallength = iris[:,2]\n",
    "\n",
    "unicos, contador = np.unique(petallength, return_counts=True)\n",
    "\n",
    "index_maior = np.argmax(contador)\n",
    "\n",
    "print(f'O Valor mais frequênte da coluna petallength é {unicos[index_maior]} com um total de {contador[index_maior]} repetições')\n"
   ]
  },
  {
   "cell_type": "code",
   "execution_count": 23,
   "metadata": {},
   "outputs": [
    {
     "name": "stdout",
     "output_type": "stream",
     "text": [
      "A primeira posição de um valor maior que 1.0 é a 50ª\n"
     ]
    }
   ],
   "source": [
    "# Exercício 25\n",
    "import numpy as np\n",
    "\n",
    "url = 'https://archive.ics.uci.edu/ml/machine-learning-databases/iris/iris.data'\n",
    "iris = np.genfromtxt(url, delimiter=',', dtype='object')\n",
    "petalwidth = iris[:,3].astype(float)\n",
    "\n",
    "resposta = np.where(petalwidth > 1.0)\n",
    "\n",
    "print(f'A primeira posição de um valor maior que 1.0 é a {resposta[0][0]}ª')"
   ]
  },
  {
   "cell_type": "code",
   "execution_count": 13,
   "metadata": {},
   "outputs": [
    {
     "name": "stdout",
     "output_type": "stream",
     "text": [
      "[48.95256545 44.67477576 42.39403048 41.466785   40.99501269]\n"
     ]
    }
   ],
   "source": [
    "# Exercício 26\n",
    "import numpy as np\n",
    "\n",
    "np.random.seed(100)\n",
    "vetor = np.random.uniform(1,50, 20)\n",
    "vetor.sort()\n",
    "print(vetor[:(len(vetor)-6):-1])"
   ]
  },
  {
   "cell_type": "code",
   "execution_count": 15,
   "metadata": {},
   "outputs": [
    {
     "name": "stdout",
     "output_type": "stream",
     "text": [
      "Média de Sepallength na espécie Sertosa: 5.01\n",
      "Média de Sepallength na espécieVirginica: 6.59\n",
      "Média de Sepallength na espécieVersicolor: 5.94\n"
     ]
    }
   ],
   "source": [
    "# Exercício 27\n",
    "import numpy as np\n",
    "\n",
    "url = 'https://archive.ics.uci.edu/ml/machine-learning-databases/iris/iris.data'\n",
    "iris = np.genfromtxt(url, delimiter=',', dtype='object')\n",
    "names = ('sepallength', 'sepalwidth', 'petallength', 'petalwidth', 'species')\n",
    "\n",
    "sertosa = (iris[iris[:, 4]==b'Iris-setosa'])[:, 0].astype(float)\n",
    "virginica = (iris[iris[:, 4]==b'Iris-virginica'])[:, 0].astype(float)\n",
    "versicolor = (iris[iris[:, 4]==b'Iris-versicolor'])[:, 0].astype(float)\n",
    "\n",
    "print(f'Média de Sepallength na espécie Sertosa: {sertosa.mean():.2f}')\n",
    "print(f'Média de Sepallength na espécieVirginica: {virginica.mean():.2f}')\n",
    "print(f'Média de Sepallength na espécieVersicolor: {versicolor.mean():.2f}')"
   ]
  },
  {
   "cell_type": "code",
   "execution_count": null,
   "metadata": {},
   "outputs": [],
   "source": []
  }
 ],
 "metadata": {
  "kernelspec": {
   "display_name": "Python 3",
   "language": "python",
   "name": "python3"
  },
  "language_info": {
   "codemirror_mode": {
    "name": "ipython",
    "version": 3
   },
   "file_extension": ".py",
   "mimetype": "text/x-python",
   "name": "python",
   "nbconvert_exporter": "python",
   "pygments_lexer": "ipython3",
   "version": "3.7.3"
  }
 },
 "nbformat": 4,
 "nbformat_minor": 2
}
