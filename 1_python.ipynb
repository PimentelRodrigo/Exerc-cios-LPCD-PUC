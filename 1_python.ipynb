{
 "cells": [
  {
   "cell_type": "markdown",
   "metadata": {},
   "source": [
    "# Bem-Vindo ao Mundo Python!"
   ]
  },
  {
   "cell_type": "markdown",
   "metadata": {},
   "source": [
    "## Variáveis e Tipos\n",
    "* Variáveis são **Locais de Memória**;\n",
    "* Os nomes de variáveis devem ser **mnemônicos**, ou seja, de **fácil memorização**;\n",
    "* Variáveis em Python são *\"Case-sensitive\"* e devem escritas com letras minúsculas, sem qualquer tipo de acentuação gráfica;\n",
    "* Nomes compostos de variáveis devem ser separados por subtraço, por exemplo: nome_variavel_composta;\n",
    "* Python é uma linguagem *dinamicamente tipada*, logo, não informamos o tipo de dados durante a declaração de cada variável;\n",
    "\n",
    "### Tipos de Dados Padrão\n",
    "Os tipos de dados primitivos do Python podem ser classificados como: numéricos, sequências, conjuntos e mapeamentos.\n",
    "\n",
    "*Tipos Numéricos*\n",
    "\n",
    "| Nome    | Descrição                    |  Versão               |\n",
    "|:--------|:-----------------------------|:----------------------|\n",
    "| int     | Números Inteiros             | Todas                 |\n",
    "| long    | Números inteiros Longos      | Python 2.x (Somente)  |\n",
    "| float   | Números de Ponto Flutuante   | Todas                 |\n",
    "| complex | Números Complexos            | Todas                 |\n",
    "\n",
    "*Sequências*\n",
    "\n",
    "| Nome         | Descrição                                                  |  Versão               |\n",
    "|:-------------|:-----------------------------------------------------------|:----------------------|\n",
    "| str          | Cadeia de Caracteres (String)                              | Todas                 |\n",
    "| bytes        | Sequência de números inteiros no intervalo de 0 a 255      | Python 3.x (Somente)  |\n",
    "| byte array   | Semelhante ao tipo bytes, porém, mutáveis                  | Python 3.x (Somente)  |\n",
    "| list         | Lista de itens geralmente homogêneos e mutáveis            | Todas                 |\n",
    "| tuple        | Sequência de itens heterogêneos e imutáveis                | Todas                 |\n",
    "\n",
    "*Conjuntos*\n",
    "\n",
    "| Nome       | Descrição                               |  Versão                |\n",
    "|:-----------|:----------------------------------------|:-----------------------|\n",
    "| set        | coleção não ordenada de objetos únicos  | Python 2.6 ou Superior |\n",
    "| frozen set | Semelhante ao tipo set, porém, imutável | Python 2.6 ou Superior |\n",
    "\n",
    "*Mapeamentos*\n",
    "\n",
    "| Nome       | Descrição                               |  Versão                |\n",
    "|:-----------|:----------------------------------------|:-----------------------|\n",
    "| dict       | Dicionários ou Array Associativos       | Todas                  |\n",
    "\n",
    "\n",
    "#### Objetos Mutáveis X Objetos Imutáveis\n",
    "De modo geral, os tipos de dados em Python podem ser diferenciados como mutáveis e imutáveis.\n",
    "\n",
    "- **Objetos Mutáveis:** o conteúdo pode ser alterado após sua criação;\n",
    "- **Objetos Imutáveis:** o conteúdo **não pode ser alterado** após sua criação;\n",
    "\n",
    "| Tipos Mutáveis       | Tipos Imutáveis                         |\n",
    "|:---------------------|:----------------------------------------|\n",
    "| array                | int, float, complex                     |\n",
    "| bytearray            | str                                     |\n",
    "| list                 | bytes                                   |\n",
    "| set                  | tuple                                   |\n",
    "| dict                 | frozenset                               |\n",
    "| -                    | bool                                    |"
   ]
  },
  {
   "cell_type": "code",
   "execution_count": null,
   "metadata": {},
   "outputs": [],
   "source": [
    "# CONVERSÃO DE TIPO\n",
    "# Aprendendo Conversão de Tipo Com Exemplos\n",
    "\n",
    "# Números Inteiros\n",
    "valor_int_1 = int(2.7) \n",
    "print(valor_int_1) # Saída: 2   \n",
    "\n",
    "valor_int_2 = int(-3.9)\n",
    "print(valor_int_2) # Saída: -3   \n",
    "\n",
    "valor_int_3 = int(\"2\")\n",
    "print(valor_int_3) # Saída: 2  \n",
    "\n",
    "\n",
    "# Números de Ponto Flutuante\n",
    "valor_float_1 = float(7)\n",
    "print(valor_float_1) # Saída: 7.0\n",
    "\n",
    "valor_float_2 = float(\"4.5\")\n",
    "print(valor_float_2) # Saída: 4.5\n",
    "\n",
    "valor_float_4 = float(\"2.7E-2\")\n",
    "print(valor_float_4) # Saída: 0.027\n",
    "\n",
    "valor_float_5 = float(False)\n",
    "print(valor_float_5) # Saída: 0.0\n",
    "\n",
    "valor_float_6 = float(True)\n",
    "print(valor_float_6) # Saída: 1.0\n",
    "\n",
    "\n",
    "# Cadeia de Caracteres\n",
    "valor_string_1 = str(4.5)\n",
    "print(valor_string_1) # Saída: 4.5\n",
    "\n",
    "valor_string_2 = str([1, 2, 3, 4, 5])\n",
    "print(valor_string_2) # Saída: \"[1, 2, 3, 4, 5]\"\n",
    "\n",
    "\n",
    "# Tipos Lógicos (Booleanos)\n",
    "valor_bool_1 = bool(0)\n",
    "print(valor_bool_1) # Saída: False\n",
    "\n",
    "valor_bool_2 = bool(1)\n",
    "print(valor_bool_2) # Saída: True\n",
    "\n",
    "valor_bool_3 = bool([])\n",
    "print(valor_bool_3) # Saída: False - Lista Vazia\n",
    "\n",
    "valor_bool_4 = bool([False])\n",
    "print(valor_bool_4) # Saída: True - Lista Não Vazia\n",
    "\n",
    "valor_bool_5 = bool({})\n",
    "print(valor_bool_5) # Saída: False - Dicionário Vazio, o mesmo para Tupla\n",
    "\n",
    "valor_bool_6 = bool(\"\")\n",
    "print(valor_bool_6) # Saída: False - String Vazia\n",
    "\n",
    "valor_bool_7 = bool(\" \")\n",
    "print(valor_bool_7) # Saída: True - String Não Vazia\n",
    "\n",
    "valor_bool_8 = bool(None)\n",
    "print(valor_bool_8) # Saída: False\n",
    "\n",
    "valor_bool_9 = bool(len)\n",
    "print(valor_bool_9) # Saída: True\n",
    "\n",
    "# Listas e Conjuntos\n",
    "conjunto = set([1, 2])\n",
    "lista = list(conjunto)\n",
    "print(conjunto) # Saída: {1, 2}\n",
    "print(lista)    # Saída: [1, 2]\n",
    "\n",
    "valor_lista_1 = list({0: \"Python\", 1: \"R\"}) # dict: Lista de chaves\n",
    "print(valor_lista_1) # Saída: [0, 1]\n",
    "\n",
    "tupla = tuple(lista)\n",
    "print(tupla) # Saída: (1, 2)\n",
    "\n",
    "valor_lista_2 = list(\"ABC\")\n",
    "print(valor_lista_2) # Saída: ['A', 'B', 'C']"
   ]
  },
  {
   "cell_type": "code",
   "execution_count": null,
   "metadata": {},
   "outputs": [],
   "source": [
    "# Conversão IMPLÍCITA de Tipo\n",
    "# Aprendendo Conversão de Tipo Com Exemplos\n",
    "\n",
    "numero_inteiro = 7\n",
    "numero_real = inteiro + 2.1\n",
    "print(numero_real) # Saída: 9.1\n",
    "\n",
    "cadeia_caracteres = \"Meu int: \" + str(numero_inteiro)\n",
    "print(cadeia_caracteres)\n",
    "\n",
    "numero_inteiro_2 = 4 + True\n",
    "print(numero_inteiro_2) # Saída: 5 - O valor booleno é convetido implicitamente para inteiro"
   ]
  },
  {
   "cell_type": "markdown",
   "metadata": {},
   "source": [
    "## Exercício 1\n",
    "*Calculando o IMC*\n",
    "\n",
    "O Índice de Massa Corporal (IMC) é uma medida internacional usada para calcular se uma pessoa está em seu peso ideal.\n",
    "O cálculo do IMC é determinado pela divisão da massa do indivíduo em quilogramas pelo quadrado de sua altura em metros.\n",
    "\n",
    "\n",
    "\n",
    "$$IMC=\\frac{massa}{(altura * altura)}$$\n",
    "\n",
    "\n",
    "\n",
    "Escreva um programa que leia do usuário sua altura e peso e calcule seu IMC.\n"
   ]
  },
  {
   "cell_type": "code",
   "execution_count": 24,
   "metadata": {},
   "outputs": [
    {
     "name": "stdin",
     "output_type": "stream",
     "text": [
      "Altura:  1.20\n",
      "Peso:  300\n"
     ]
    },
    {
     "name": "stdout",
     "output_type": "stream",
     "text": [
      "IMC = 208.3\n"
     ]
    }
   ],
   "source": [
    "# TODO: Complete o Código Abaixo\n",
    "try:\n",
    "    altura = float(input('Altura: '))\n",
    "    peso = float(input('Peso: '))\n",
    "    imc = peso / (altura * altura)\n",
    "    print(f'IMC = {imc:.2f}')\n",
    "except ValueError:\n",
    "    print(\"Digitar valores numericos ou separados por ponto\")\n",
    "\n"
   ]
  },
  {
   "cell_type": "markdown",
   "metadata": {},
   "source": [
    "## Operadores\n",
    "\n",
    "*Operadores Numéricos*\n",
    "\n",
    "| Operador | Descrição       |\n",
    "|:---------|:----------------|\n",
    "| +        | Adição          |\n",
    "| -        | Subtração       |\n",
    "| *        | Multiplicação   |\n",
    "| /        | Divisão         |\n",
    "| **       | Expoente        |\n",
    "| %        | Módulo          |\n",
    "| //       | Divisão de Piso |\n",
    "\n",
    "\n",
    "*Operadores de Comparação*\n",
    "\n",
    "| Operador | Descrição       |\n",
    "|:---------|:----------------|\n",
    "| ==       | Igual           |\n",
    "| !=       | Diferente       |\n",
    "| >        | Maior           |\n",
    "| <        | Menor           |\n",
    "| >=       | Maior Igual     |\n",
    "| <=       | Menor Igual     |\n",
    "\n",
    "\n",
    "*Operadores Lógicos*\n",
    "\n",
    "| Operador | Descrição       |\n",
    "|:---------|:----------------|\n",
    "| and      | AND lógico      |\n",
    "| or       | OR lógico       |\n",
    "| not      | NOT lógico      |\n",
    "\n",
    "*Caracteres Especiais*\n",
    "\n",
    "| Operador | Descrição       |\n",
    "|:---------|:----------------|\n",
    "| #        | Comentário      |\n",
    "| \\n       | Nova Linha      |\n"
   ]
  },
  {
   "cell_type": "markdown",
   "metadata": {},
   "source": [
    "## Exercícios\n",
    "\n",
    "1. O que o código a seguir imprime?\n",
    "\n",
    "```python\n",
    "print(“*\\n**\\n***\\n****\\n*****”)\n",
    "```\n",
    "\n",
    "\n",
    "2. O que aparece na janela do console, quando cada uma das instruções abaixo são executadas, para: x = 2 e y = 3? Execute cada uma das linhas abaixos e, se necessário, faça os devidos ajustes no código.\n",
    "    1. *print(“x = ” + x);*\n",
    "    2. *print(“O valor de x + x é ” + (x + x));*\n",
    "    3. *print(“x = ”);*\n",
    "    4. *print((x + y) + “ = “ + (y + x));*\n",
    "\n",
    "\n",
    "3. Escreva um programa que leia o nome, o sobrenome e o número de matrícula de um estudante. Em seguida, formate e imprima os dados lidos da seguinte forma: [matrícula] nome sobrenome.\n",
    "\n",
    "4. Escreva um programa que solicite do usuário dois números, e imprima o resultado da soma, subtração, multiplicação e divisão.\n",
    "\n",
    "5. Escreva um programa que receba como entrada o raio de um círculo e imprima o diâmetro, a circunferência e a área. Para isso, utilize as fórmulas: diâmetro = 2r; circunferência = 2πr, área = πr².\n",
    "\n",
    "6. Escreva um programa que receba como entrada um número de 5 dígitos, separe o número em dígitos individuais e os imprima separados por 3 espaços cada um. Por exemplo, se o usuário digitar 42339, o programa deverá imprimir: 4    2    3    3.   Dica: utilize as operações de divisão e módulo para extrair cada dígito do número."
   ]
  },
  {
   "cell_type": "code",
   "execution_count": 3,
   "metadata": {},
   "outputs": [
    {
     "name": "stdout",
     "output_type": "stream",
     "text": [
      "*\n",
      "**\n",
      "***\n",
      "****\n",
      "*****\n"
     ]
    }
   ],
   "source": [
    "# TODO: Escreva seu código abaixo\n",
    "\n",
    "# Exercicio 1\n",
    "print('*\\n**\\n***\\n****\\n*****')"
   ]
  },
  {
   "cell_type": "code",
   "execution_count": 1,
   "metadata": {},
   "outputs": [
    {
     "name": "stdout",
     "output_type": "stream",
     "text": [
      "x = 2\n",
      "O valor de x + x = 4\n",
      "x = \n",
      "2 + 3 = 3 + 2\n"
     ]
    }
   ],
   "source": [
    "# Exercicio 2\n",
    "x = 2\n",
    "y = 3\n",
    "print(f'x = {x}')\n",
    "print(f'O valor de x + x = {x + x}')\n",
    "print(f'x = ')\n",
    "print(f'{x} + {y} = {y} + {x}')\n"
   ]
  },
  {
   "cell_type": "code",
   "execution_count": 4,
   "metadata": {},
   "outputs": [
    {
     "name": "stdin",
     "output_type": "stream",
     "text": [
      "Digite a sua matricula: 5646851\n",
      "Digite o seu nome: Rodrigo\n",
      "Digite o seu sobrenome: Pimentel\n"
     ]
    },
    {
     "name": "stdout",
     "output_type": "stream",
     "text": [
      "[5646851] Rodrigo Pimentel\n"
     ]
    }
   ],
   "source": [
    "#Exercicio 3\n",
    "matricula = input('Digite a sua matricula:')\n",
    "nome = input('Digite o seu nome:')\n",
    "sobrenome = input('Digite o seu sobrenome:')\n",
    "\n",
    "print(f'[{matricula}] {nome} {sobrenome}')"
   ]
  },
  {
   "cell_type": "code",
   "execution_count": 2,
   "metadata": {},
   "outputs": [
    {
     "name": "stdin",
     "output_type": "stream",
     "text": [
      "Digite o primeiro numero: 5.9\n",
      "Digite o segundo numero: 6.45\n"
     ]
    },
    {
     "name": "stdout",
     "output_type": "stream",
     "text": [
      "Soma: 12.35 - Subtração: -0.55 - Multiplicação: 12.35 - Divisão: 0.91\n"
     ]
    }
   ],
   "source": [
    "#Exercicio 4\n",
    "numero1 = float(input('Digite o primeiro numero:'))\n",
    "numero2 = float(input('Digite o segundo numero:'))\n",
    "\n",
    "print(f'Soma: {numero1 + numero2:.2f} - Subtração: {numero1 - numero2:.2f} - Multiplicação: {numero1 + numero2:.2f} - Divisão: {numero1 / numero2:.2f}')"
   ]
  },
  {
   "cell_type": "code",
   "execution_count": 3,
   "metadata": {},
   "outputs": [
    {
     "name": "stdin",
     "output_type": "stream",
     "text": [
      "Digite o raio:  7\n"
     ]
    },
    {
     "name": "stdout",
     "output_type": "stream",
     "text": [
      "Diâmetro: 14.0 - Circunferência: 43.98 - Área: 483.61\n"
     ]
    }
   ],
   "source": [
    "#Exercicio 5\n",
    "import math\n",
    "raio = float(input('Digite o raio: '))\n",
    "print(f'Diâmetro: {raio * 2} - Circunferência: {2 * math.pi * raio :.4} - Área: {(math.pi * raio) ** 2:.2f}')"
   ]
  },
  {
   "cell_type": "code",
   "execution_count": 7,
   "metadata": {},
   "outputs": [
    {
     "name": "stdin",
     "output_type": "stream",
     "text": [
      "Digite um numero com 5 digitos:  45678\n"
     ]
    },
    {
     "name": "stdout",
     "output_type": "stream",
     "text": [
      "4 5 6 7 8\n"
     ]
    }
   ],
   "source": [
    "#Exercicio 6\n",
    "numero = int(input('Digite um numero com 5 digitos: '))\n",
    "milhar1 = numero // 10000\n",
    "milhar = numero // 1000 - (milhar1 * 10)\n",
    "centena = numero // 100 - (milhar1 * 100 + milhar * 10)\n",
    "dezena = numero // 10 - (milhar1 * 1000 + milhar * 100 + centena * 10)\n",
    "unidade = numero - (milhar1 * 10000 + milhar * 1000 + centena * 100 + dezena * 10)\n",
    "\n",
    "print(f'{milhar1} {milhar} {centena} {dezena} {unidade}')"
   ]
  },
  {
   "cell_type": "code",
   "execution_count": 5,
   "metadata": {},
   "outputs": [
    {
     "name": "stdin",
     "output_type": "stream",
     "text": [
      "Digite um numero com 5 digitos:  45678\n"
     ]
    },
    {
     "name": "stdout",
     "output_type": "stream",
     "text": [
      "4 5 6 7 8\n"
     ]
    }
   ],
   "source": [
    "#Exercicio 6 resolução 2\n",
    "numero = int(input('Digite um numero com 5 digitos: '))\n",
    "digito5 = int((numero % 10))\n",
    "digito4 = int((numero % 100) / 10)\n",
    "digito3 = int((numero % 1000) / 100)\n",
    "digito2 = int((numero % 10000) / 1000)\n",
    "digito1 = int((numero % 100000) / 10000)\n",
    "\n",
    "print(f'{digito1} {digito2} {digito3} {digito4} {digito5}')\n"
   ]
  },
  {
   "cell_type": "markdown",
   "metadata": {},
   "source": [
    "## Estruturas de Controle \n",
    "\n",
    "\n",
    "### Estruturas de Seleção\n",
    "\n",
    "As estruturas de seleção *if* e *if/else* são usadas para controle da execução sequêncial de um programa. Na prática, se uma determinada condição lógica for avaliada como verdadeira, o interpretador Python executa todos os comandos dentro do bloco da estrutura de seleção. Em Python, para a estruturas de seleção única usamos a palavra-chave *if* e para estruturas de seleção múltiplas usamos o nome *elsif*. \n",
    "\n",
    "```python\n",
    " if condicao1:\n",
    "    # Executa quando a condição1 for verdadeira\n",
    " elsif condicao2:\n",
    "    # Executa quando a condição2 for verdadeira\n",
    " else:\n",
    "    # Executa quando todas condições não forem satisfeitas\n",
    "```\n",
    "\n",
    "### Estruturas de Repetição\n",
    "\n",
    "O Python possui duas estruturas de repetição, são elas: *for* e *while*. A estrutura de repetição *for*, em sua sintaxe, difere um pouco, por exemplo, das linguagens de programação baseadas em C, onde definimos uma condição de parada (i < n) e um passo de iteração (i++). O comando *for* é usado para percorrer os itens de qualquer sequência (p. ex.: lista, string ou tupla) para que eles apareçam em série ou simplesmente como um laço de repetição (*loop*). "
   ]
  },
  {
   "cell_type": "code",
   "execution_count": null,
   "metadata": {},
   "outputs": [],
   "source": [
    "cores  = [\"Vermelho\", \"Laranja\", \"Amarelo\", \"Verde\", \"Azul\", \"Anil\", \"Violeta\"]\n",
    "\n",
    "for cor in cores:\n",
    "    print(\"Eu ♥ \" + cor)\n"
   ]
  },
  {
   "cell_type": "markdown",
   "metadata": {},
   "source": [
    "Se você possui alguma experiência anterior com programação, deve estar se perguntando neste exato momento, como podemos percorrer os itens de uma sequência usando índices? Para tal, podemos utilizar a função range() em conjunto com a função len(). A função *range(start, stop, step)* do Python, retorna uma sequência de números, começando em 0 (zero) por padrão, e incrementando de um em um, até o fim de um número especificado como parâmetro. A função len(), por sua vez, retorna o número de itens de uma determina sequência. Acompanhe abaixo, alguns exemplos de como essas funções podem ser usadas em conjunto com a instrução *for* para indexar itens de uma lista."
   ]
  },
  {
   "cell_type": "code",
   "execution_count": null,
   "metadata": {},
   "outputs": [],
   "source": [
    "# EXEMPLOS - Função range()\n",
    "lista1 = range(5)\n",
    "lista2 = range(10, 20, 2)\n",
    "lista3 = range(1, 5)\n",
    "lista4 = range(5, -1, -1)\n",
    "\n",
    "print(\"EXEMPLOS: Função range()\\n\")\n",
    "\n",
    "for item in lista1:\n",
    "    print(item) # Para range(5) Saída: [0, 1, 2, 3, 4]\n",
    "\n",
    "print(\"\\n\") \n",
    "    \n",
    "for item in lista2:\n",
    "    print(item) # Para range(10, 20, 2) Saída: [10, 12, 14, 16, 18]\n",
    "\n",
    "print(\"\\n\")     \n",
    "    \n",
    "for item in lista3:\n",
    "    print(item) # Para range(1, 5) Saída: [1, 2, 3, 4]\n",
    "\n",
    "print(\"\\n\")     \n",
    "    \n",
    "for item in lista4:\n",
    "    print(item) # Para range(1, 5) Saída: [1, 2, 3, 4]\n",
    "    \n",
    "    \n",
    "print(\"\\n\")     \n",
    "    \n",
    "    \n",
    "# EXEMPLOS - for, range() e len\n",
    "print(\"EXEMPLOS: for, len() e range()\\n\")\n",
    "\n",
    "\n",
    "# Imprimindo lista de cores\n",
    "cores  = [\"Vermelho\", \"Laranja\", \"Amarelo\", \"Verde\", \"Azul\", \"Anil\", \"Violeta\"]\n",
    "n = len(cores) # a função len() retorna o número de elementos\n",
    "\n",
    "for i in range(n):\n",
    "    print(cores[i])\n",
    "\n",
    "print(\"\\n\")\n",
    "\n",
    "for i in range((n - 1), -1, -1):\n",
    "    print(cores[i])\n",
    "\n",
    "\n",
    "# for aninhado para impressão de um padrão numérico\n",
    "for i in range(10):\n",
    "    for j in range(i):\n",
    "        print(i, end=\" \")    # Imprime o número\n",
    "    print(\"\\n\")              # Adiciona quebra de linha ao final de cada linha\n",
    "\n",
    "\n",
    "\n"
   ]
  },
  {
   "cell_type": "markdown",
   "metadata": {},
   "source": [
    "Assim como o for, a estrutura de repetição while é usada para repetir um trecho de código várias vezes, porém, no while a repetição continua enquanto uma condição lógica definida seja verdadeira (True), veja alguns exemplos abaixo: \n",
    "\n",
    "```python\n",
    "while condicao: # enquanto condição for verdadeira\n",
    "    # Executa algum(ns) comando(s)\n",
    "    # Atualiza variável de controle\n",
    "```"
   ]
  },
  {
   "cell_type": "code",
   "execution_count": null,
   "metadata": {},
   "outputs": [],
   "source": [
    "contador = 0                 # Define uma variável de controle que será avaliada na condição\n",
    "\n",
    "while contador < 10:         # enquanto a condição (contador < 10) for verdadeira\n",
    "    print(contador)          # Executa algum comando: print(contador)\n",
    "    contador = contador + 1  # Atualiza a variável de controle\n",
    "    \n",
    "print(\"\\n\")\n",
    "\n",
    "\n",
    "# EXEMPLO: Algoritmo Fatorial Iterativo\n",
    "n = 3\n",
    "i = 1\n",
    "resultado = 1\n",
    "\n",
    "while i <= n:\n",
    "    resultado = resultado * i\n",
    "    i = i + 1\n",
    "    \n",
    "print(\"Fatorial de %d é %d\" % (n, resultado))\n",
    "    "
   ]
  },
  {
   "cell_type": "markdown",
   "metadata": {},
   "source": [
    "### Técnicas de Looping\n",
    "\n",
    "1. Ao percorrer dicionários, a chave e o valor, podem ser recuperados ao mesmo tempo através do método *items()*;\n",
    "\n",
    "```python\n",
    "websites = {'site': \"Python Software Foundation\", 'url': \"https://www.python.org/\"}\n",
    "\n",
    "for key, value in websites.items():\n",
    "    print(key, value)\n",
    "    \n",
    "# Saída\n",
    "# site Python Software Foundation\n",
    "# url https://www.python.org/\n",
    "```\n",
    "\n",
    "2. Ao percorrer sequências, índice e o item, podem ser recuperados ao mesmo tempo através do método *enumerate()*;\n",
    "\n",
    "```python\n",
    "rgb = [\"Red\", \"Green\", \"Blue\"]\n",
    "\n",
    "for i, item in enumerate(rgb):\n",
    "    print(i, item)\n",
    "    \n",
    "# Saída\n",
    "# 0 Red\n",
    "# 1 Green\n",
    "# 2 Blue\n",
    "```\n",
    "\n",
    "3. Para percorrer duas ou mais sequências ao mesmo tempo, as entradas podem ser emparelhadas através da função *zip()*;\n",
    "\n",
    "\n",
    "```python\n",
    "condinomes_android = [\"Petit Four\", \"Eclair\",  \"Honeycomb\", \"Ice Cream Sandwich\", \"Lollipop\", \"Marshmallow\", \"Nougat\", \"Oreo\", \"Pie\"]\n",
    "versoes_android = [\"1.1\", \"2.0 – 2.1\", \"3.0 – 3.2.6\", \"4.0 – 4.0.4\", \"5.0 – 5.1.1\", \"6.0 – 6.0.1\", \"7.0 – 7.1.2\", \"8.0 – 8.1\", \"9.0\"]\n",
    "\n",
    "for codinome, versao in zip(condinomes_android, versoes_android):\n",
    "    print(codinome, versao)\n",
    "    \n",
    "# Saída\n",
    "# Petit Four 1.1\n",
    "# Eclair 2.0 – 2.1\n",
    "# Honeycomb 3.0 – 3.2.6\n",
    "# Ice Cream Sandwich 4.0 – 4.0.4\n",
    "# Lollipop 5.0 – 5.1.1\n",
    "# Marshmallow 6.0 – 6.0.1\n",
    "# Nougat 7.0 – 7.1.2\n",
    "# Oreo 8.0 – 8.1\n",
    "# Pie 9.0\n",
    "```\n",
    "\n",
    "4. Para iterar em uma sequência ordenada sem alterar a ordem dos elementos utilize o metodo *sorted()* que irá retornar uma nova lista ordenada sem alterar a original\n",
    "\n",
    "```python\n",
    "estados_sudeste_brasileiro = [\"São Paulo\", \"Rio de Janeiro\", \"Minas Gerais\", \"Espírito Santo\"]\n",
    "\n",
    "for estado in sorted(set(estados_sudeste_brasileiro)):\n",
    "    print(estado)\n",
    "    \n",
    "# Saída\n",
    "# Espírito Santo\n",
    "# Minas Gerais\n",
    "# Rio de Janeiro\n",
    "# São Paulo    \n",
    "    \n",
    "```"
   ]
  },
  {
   "cell_type": "markdown",
   "metadata": {},
   "source": [
    "## Exercícios\n",
    "\n",
    "1. Escreva um programa que leia dois números inteiros que determine e verifique se o primeiro é um múltiplo do segundo. Por exemplo: se o usuário digitar 15 e 3, o primeiro número será múltiplo do segundo; se o usuário digitar 2 e 4, o primeiro número não será múltiplo do segundo. Dica: use o operador módulo para obter o resto da divisão.\n",
    "\n",
    "2. Escreva um programa que calcule o quadrado e o cubo dos números de 0 a 10, e imprima os valores em forma de tabela. Número | Quadrado | Cubo\n",
    "\n",
    "3. Escreva um programa que receba dois números inteiros como entrada e verifica qual deles é o maior.\n",
    "\n",
    "4. Escreva um programa que leia apenas uma letra do alfabeto como entrada e classifique-a como vogal ou consoante. Seu programa deverá aceitar como entrada apenas um caractere, ou seja, se o usuário digitar dois ou mais caracteres, o sistema deverá informar ao usuário a entrada rejeitada.\n"
   ]
  },
  {
   "cell_type": "code",
   "execution_count": 7,
   "metadata": {},
   "outputs": [
    {
     "name": "stdin",
     "output_type": "stream",
     "text": [
      "Digite o primeiro número:  2\n",
      "Digite o segundo número:  4\n"
     ]
    },
    {
     "name": "stdout",
     "output_type": "stream",
     "text": [
      "O número 2.0 NÃO é multiplo de 4.0\n"
     ]
    }
   ],
   "source": [
    "# Exercício 1\n",
    "try:\n",
    "    num1 = float(input(f'Digite o primeiro número: '))\n",
    "    num2 = float(input(f'Digite o segundo número: '))\n",
    "except ValueError:\n",
    "    print(f'Digite somente valores númericos')\n",
    "\n",
    "if num1 % num2 == 0:\n",
    "    print(f'O número {num1} é multiplo de {num2}')\n",
    "else:\n",
    "    print(f'O número {num1} NÃO é multiplo de {num2}')"
   ]
  },
  {
   "cell_type": "code",
   "execution_count": 4,
   "metadata": {},
   "outputs": [
    {
     "name": "stdout",
     "output_type": "stream",
     "text": [
      "0|0|0\n",
      "1|1|1\n",
      "2|4|8\n",
      "3|9|27\n",
      "4|16|64\n",
      "5|25|125\n",
      "6|36|216\n",
      "7|49|343\n",
      "8|64|512\n",
      "9|81|729\n",
      "10|100|1000\n"
     ]
    }
   ],
   "source": [
    "# Exercício 2\n",
    "resposta = []\n",
    "novo_dado = []\n",
    "linhas = 11\n",
    "colunas = 3\n",
    "\n",
    "# Criando o vetor de resposta\n",
    "for i in range(0, linhas):\n",
    "    for j in range(0, colunas):\n",
    "        if j == 0:\n",
    "            novo_dado.append(i)\n",
    "        elif j == 1:\n",
    "            novo_dado.append(i ** 2)\n",
    "        else:\n",
    "            novo_dado.append(i ** 3)\n",
    "    j = 0\n",
    "    resposta += [novo_dado]\n",
    "    novo_dado = []\n",
    "\n",
    "# Exibindo a resposta\n",
    "for i in range(0, linhas):\n",
    "    print(f'{resposta[i][0]}|{resposta[i][1]}|{resposta[i][2]}')"
   ]
  },
  {
   "cell_type": "code",
   "execution_count": 8,
   "metadata": {},
   "outputs": [
    {
     "name": "stdin",
     "output_type": "stream",
     "text": [
      "Digite o primeiro número:  2\n",
      "Digite o segundo número:  8\n"
     ]
    },
    {
     "name": "stdout",
     "output_type": "stream",
     "text": [
      "O número 8 é maior de 2\n"
     ]
    }
   ],
   "source": [
    "# Exercício 3\n",
    "try:\n",
    "    num1 = int(input(f'Digite o primeiro número: '))\n",
    "    num2 = int(input(f'Digite o segundo número: '))\n",
    "except ValueError:\n",
    "    print(f'Digite somente valores inteiros')\n",
    "\n",
    "if num1 < num2:\n",
    "    print(f'O número {num2} é maior de {num1}')\n",
    "elif num2 < num1:\n",
    "    print(f'O número {num1} é maior de {num2}')\n",
    "else:\n",
    "    print(f'O número {num1} é igual a {num2}')\n",
    "    "
   ]
  },
  {
   "cell_type": "code",
   "execution_count": 1,
   "metadata": {},
   "outputs": [
    {
     "name": "stdin",
     "output_type": "stream",
     "text": [
      "Digite uma letra:  t\n"
     ]
    },
    {
     "name": "stdout",
     "output_type": "stream",
     "text": [
      "A letra 'T' é uma consoante \n"
     ]
    }
   ],
   "source": [
    "letra = input(f'Digite uma letra: ')\n",
    "if len(letra) > 1:\n",
    "    print('Digite somente 1 letra')\n",
    "else:\n",
    "    vogal = ['a', 'e', 'i', 'o', 'u']\n",
    "\n",
    "    if letra.lower() in vogal:\n",
    "        print(f\"A letra '{letra.upper()}' é uma vogal \")\n",
    "    else:\n",
    "        print(f\"A letra '{letra.upper()}' é uma consoante \")"
   ]
  },
  {
   "cell_type": "markdown",
   "metadata": {},
   "source": [
    "## Funções\n",
    "\n",
    "Métodos são blocos de códigos reutilizáveis que realizam tarefas específicas dentro de um programa. Em Python, definimos funções usando a palavra-chave *def*, seguida pelo nome da função, a lista formal de parâmetros entre parêntesis, e, finalizando a assinatura do método com dois pontos (:). É importante lembrar que todas as instruções após a assinatura do método e que formam o corpo da função, devem ser identadas para funcionamento correto do código.\n",
    "\n",
    "```python\n",
    "def soma(a, b):\n",
    "    \"\"\"Retorna a soma de dois números inteiros\"\"\"\n",
    "    return a + b;\n",
    "\n",
    "\n",
    "# Exemplo de uso da função\n",
    "resultado_soma = soma(12, 15) \n",
    "print(resultado_soma) # Saída: 27\n",
    "\n",
    "```\n",
    "\n",
    "Você deve ter notado o comentário logo após a assinatura do método; este tipo de comentário é o que chamamos de *docstring*, e serve para documentarmos as funções para posteriormente, gerarmos automaticamente com auxílio de ferramentas, uma documentação online ou impressa do seu programa. Por isso, comente sempre seu código e escreva-o de maneira mais clara possível para que outras pessoas consigam ler e compreender facilmente o que seu código faz.\n",
    "\n",
    "### Declaração de Argumentos\n",
    "\n",
    "Existem 3 formas diferentes, que podem ser combinadas entre si, para definirmos funções com número variável de argumentos, são elas:\n",
    "\n",
    "**1. Valores Padrão de Argumento**: declaramos um valor padrão para um ou mais argumentos no seguinte formato: *\"arg = value\"*; de tal forma que damos a opção de não especificar valores para tais argumentos e usarmos os valores padrão definidos.\n",
    "\n",
    "```python\n",
    "def exibir_mensagem(mensagem, cortar_apos = 4):\n",
    "    print(message[:cortar_apos]\n",
    "\n",
    "# Exemplo de uso da função\n",
    "exibir_mensagem(\"mensagem\")     # Saída: mens\n",
    "exibir_mensagem(\"mensagem\", 6)  # Saída: mensag\n",
    "```\n",
    "\n",
    "**2. Argumentos por Palavras-Chave**: semelhante a técnica anterior, argumentos por palavra-chave nós declaramos os argumentos no formato *\"arg = value\"*, lembrando que em uma chamada de função as variáveis passadas como parâmetro devem seguir a mesma ordem dos argumentos na assinatura do método.\n",
    "\n",
    "```python\n",
    "def desenha_retangulo(x, y, width = 800, height = 600):\n",
    "    # Instruções\n",
    "    \n",
    "# Exemplo de uso da função\n",
    "desenha_retangulo(0, 0)                               # Argumento por posição usando valores padrão do restante \n",
    "desenha_retangulo(0, 0, width = 1280)                 # Argumento com uma palavra-chave\n",
    "desenha_retangulo(0, 0, width = 1280, height = 1024)  # Argumento com duas palavras-chave\n",
    "desenha_retangulo()                                   # Erro: required argument missing\n",
    "desenha_retangulo(color = \"#CCCCCC\")                  # Erro: argumento por palavra-chave desconhecido\n",
    "desenha_retangulo(0, 0, x = 200, y = 300)             # Erro: valores duplicados par ao mesmo argumento\n",
    "\n",
    "```\n",
    "\n",
    "**3. Listas de Argumentos Arbitrários**: o Python permite você criar listas de argumentos com tamanho variável, de forma que toda vez que você chamar a função você possa especificar qualquer quantidade de argumentos que serão empacotados em uma variável do tipo tupla.\n",
    "\n",
    "```python\n",
    "# O último argumento é marcado com uma asterisco \n",
    "# para indicar que após os dois primeiros parâmetros\n",
    "# qualquer dado enviado para a função será empacotado em uma tupla.\n",
    "def nome_funcao(primeiro_arg, segundo_arg, *restante):\n",
    "    # Instruções\n",
    "    \n",
    "```\n",
    "\n",
    "### Passagem por Valor ou Por Referência?\n",
    "\n",
    "Em Python, objetos passados como argumentos para as funções são passados por *referência*, ou seja, não é feita uma cópia deles para o corpo da função. Desta forma, quando passamos uma lista enorme como argumento, não haverá a cópia  de todos os seus itens para um novo local em memória. Não se esqueça que até mesmo números inteiros são objetos para o Python. \n",
    "\n",
    "Ao passar objetos mutáveis (p. ex: listas e dicionários) como parâmetro, eles podem ser alterados pela função que os chamou e as alterações são visíveis para a função chamadora. Já os objetos imutáveis (p. ex: inteiros e strings), não podem ser alterados pela função chamada, logo, a função chamadora pode ter certeza de que a função chamada não irá alterar os valores das variáveis.\n"
   ]
  },
  {
   "cell_type": "markdown",
   "metadata": {},
   "source": [
    "## Exercícios\n",
    "\n",
    "1. Uma empresa quer transmitir dados pelo telefone, mas está preocupada com a interceptação telefônica. Todos os seus dados são transmitidos  como inteiros de quatro dígitos. Ela pediu para que você escreva um programa que criptografe seus dados, para que eles possam ser transmitidos com mais segurança. Seu aplicativo deve ler um inteiro de quatro dígitos fornecidos pelo usuário e criptografá-lo da seguinte forma: substitua cada dígitos por (a soma desse dígitos mais 7) módulo 10. Em seguida, troque o primeiro dígito pelo terceiro e troque o segundo dígito pelo quarto e imprima o inteiro criptografado.\n",
    "\n",
    "2. Implemente a função par que retorna verdadeiro se um número inteiro passado como parâmetro for par ou falso caso ele seja ímpar. Teste seu programa chamando a função para verificar os números de 0 à 10.\n",
    "\n",
    "3. Escreva um programa que leia 3 números inteiros referente ao comprimento dos lados de um triângulo e classifique como: triângulo equilátero, isósceles ou escaleno.\n",
    "\n",
    "4. Escreva um programa que aceita um número como entrada e insere hífens (-) entre dois números pares. Por exemplo, se receber o número 02368859 como entrada, a saída do programa deverá ser: 0-236-8-859.\n",
    "\n",
    "5. Escreva um programa que encontre o item mais frequente de um vetor. Exemplo: [2, 7, 7, 7, ‘#’, ‘#’, ‘#’, ‘@’, 3, ‘#’, 6]  // Saída: # aparece 4 vezes\n",
    "\n",
    "6. Um número de Armstrong de 3 dígitos é um inteiro pelo qual a soma dos cubos dos seus dígitos é igual ao seu número. Por exemplo: o número inteiro 371 é um número de Armstrong, porque 3³ + 7³ + 1³ = 371. Escreva um programa que verifique se um número de 3 dígitos fornecido como entrada é um número de Armstrong.\n",
    "\n",
    "7. Escreva uma função ue receba uma string e conte o número de vogais dentro dela, por exemplo: entrada: ‘Ciência de Dados’, saída: 7 vogais\n",
    "\n",
    "8. Implemente em Python o algoritmo de Busca Binária\n",
    "\n",
    "9. Escreva uma função que receba algum valor como parâmetro e retorne seu tipo\n",
    "\n",
    "10. Escreva uma função que receba um lista numérica como parâmetro e retorne os segundos maiores e menores números da sequência, por exemplo: entrada [1, 2, 3, 4, 5, 6, 7, 8, 9], saída [2, 8].\n",
    "\n",
    "12.  Escreva uma função que receba um número inteiro como entrada (px.: 32243) e retorne o número invertido (px.: 34223)."
   ]
  },
  {
   "cell_type": "code",
   "execution_count": 6,
   "metadata": {},
   "outputs": [
    {
     "name": "stdin",
     "output_type": "stream",
     "text": [
      "Digite um número inteiro com 4 digitos 4557\n"
     ]
    },
    {
     "name": "stdout",
     "output_type": "stream",
     "text": [
      "Numero Criptografado: 2412\n",
      "Numero Descriptografado: 4557\n"
     ]
    }
   ],
   "source": [
    "# Exercício 1\n",
    "def criptografia(num1):\n",
    "    digito4 = (int((num1 % 10)) + 7) % 10\n",
    "    digito3 = (int((num1 % 100) / 10) + 7) % 10\n",
    "    digito2 = (int((num1 % 1000) / 100) + 7) % 10\n",
    "    digito1 = (int((num1 % 10000) / 1000) + 7) % 10\n",
    "    return str(digito3) + str(digito4) + str(digito1) + str(digito2)\n",
    "\n",
    "\n",
    "def descriptografia(num1):\n",
    "    digito4 = ((int((num1 % 10))) + 3) % 10\n",
    "    digito3 = (int((num1 % 100) / 10 )  + 3) % 10\n",
    "    digito2 = (int((num1 % 1000) / 100)  + 3) % 10\n",
    "    digito1 = (int((num1 % 10000) / 1000)  + 3) % 10\n",
    "\n",
    "    return str(digito3) + str(digito4) + str(digito1) + str(digito2)\n",
    "\n",
    "try:\n",
    "    numero = int(input(f'Digite um número inteiro com 4 digitos'))\n",
    "    if (numero - 1000) < 0 or ((10000 - numero) < 1 or (10000 - numero) > 9000 ):\n",
    "        print(f'O número = {numero} não tem 4 digitos')\n",
    "    else:\n",
    "        print(f'Número Criptografado: {criptografia(numero)}')\n",
    "        print(f'Número Descriptografado: {descriptografia(int(criptografia(numero)))}')\n",
    "except ValueError:\n",
    "    print(f'O Valor digitado não é um número inteiro')\n"
   ]
  },
  {
   "cell_type": "code",
   "execution_count": 10,
   "metadata": {},
   "outputs": [
    {
     "name": "stdout",
     "output_type": "stream",
     "text": [
      "O número 0 é par\n",
      "O número 1 é impar\n",
      "O número 2 é par\n",
      "O número 3 é impar\n",
      "O número 4 é par\n",
      "O número 5 é impar\n",
      "O número 6 é par\n",
      "O número 7 é impar\n",
      "O número 8 é par\n",
      "O número 9 é impar\n",
      "O número 10 é par\n"
     ]
    }
   ],
   "source": [
    "# Exercício 2\n",
    "def par_ou_impar(num1):\n",
    "    if num1 % 2 == 0:\n",
    "        return f'O número {num1} é par'\n",
    "    else:\n",
    "        return f'O número {num1} é impar'\n",
    "\n",
    "for i in range(0, 11):\n",
    "    print(par_ou_impar(i))\n"
   ]
  },
  {
   "cell_type": "code",
   "execution_count": 9,
   "metadata": {},
   "outputs": [
    {
     "name": "stdin",
     "output_type": "stream",
     "text": [
      "Digite uma medida do Triângulo: 1\n",
      "Digite a segunda medida do Triângulo: 1\n",
      "Digite a terceira medida do Triângulo: 1\n"
     ]
    },
    {
     "name": "stdout",
     "output_type": "stream",
     "text": [
      "Esse Triângulo é definido como Equilátero\n"
     ]
    }
   ],
   "source": [
    "# Exercício 3\n",
    "def tipo_triangulo(num1, num2, num3):\n",
    "    if num1 == num2 == num3:\n",
    "        return f'Equilátero'\n",
    "    elif num1 == num2 or num1 == num3 or num2 == num3:\n",
    "        return f'Isósceles'\n",
    "    else:\n",
    "        return f'Escaleno'\n",
    "\n",
    "try:\n",
    "    num1 = float(input(f'Digite uma medida do Triângulo:'))\n",
    "    num2 = float(input(f'Digite a segunda medida do Triângulo:'))\n",
    "    num3 = float(input(f'Digite a terceira medida do Triângulo:'))\n",
    "    print(f'Esse Triângulo é definido como {tipo_triangulo(num1, num2, num3)}')\n",
    "except ValueError:\n",
    "    print(f'Digite somente números')\n"
   ]
  },
  {
   "cell_type": "code",
   "execution_count": 4,
   "metadata": {},
   "outputs": [
    {
     "name": "stdin",
     "output_type": "stream",
     "text": [
      "Digite um número com vários algarismos 2654854878889666\n"
     ]
    },
    {
     "name": "stdout",
     "output_type": "stream",
     "text": [
      "2-654-854-878-8-896-6-6\n"
     ]
    }
   ],
   "source": [
    "# Exercício 4\n",
    "def par_ou_impar(num1):\n",
    "    if num1 % 2 == 0:\n",
    "        return f'par'\n",
    "    else:\n",
    "        return f'impar'\n",
    "\n",
    "try:\n",
    "    numero = list(input(f'Digite um número com vários algarismos'))\n",
    "    resposta = \"\"\n",
    "\n",
    "    for i in range(0, len(numero)):\n",
    "        if (i + 1) < len(numero):\n",
    "            if par_ou_impar(int(numero[i])) == 'par' and par_ou_impar(int(numero[i + 1])) == 'par':\n",
    "                resposta = resposta + numero[i] + '-'\n",
    "            else:\n",
    "                resposta = resposta + numero[i]\n",
    "        else:\n",
    "            resposta = resposta + numero[i]\n",
    "\n",
    "    print(resposta)\n",
    "except ValueError:\n",
    "    print(f'Digite somente números inteiros')\n"
   ]
  },
  {
   "cell_type": "code",
   "execution_count": 1,
   "metadata": {},
   "outputs": [
    {
     "name": "stdout",
     "output_type": "stream",
     "text": [
      " O Caracter # aparece 4 vezes\n"
     ]
    }
   ],
   "source": [
    "# Exercício 5\n",
    "def contar_valores(vetor1):\n",
    "    maior = 0\n",
    "    for i in range(1, len(vetor1)):\n",
    "        if vetor1.count(vetor1[i]) > vetor1.count(vetor1[i - 1]):\n",
    "            maior = vetor1[i]\n",
    "    return f' O Caracter {maior} aparece {vetor1.count(maior)} vezes'\n",
    "\n",
    "\n",
    "dados_principais = [2, 7, 7, 7, '#', '#', '#', '@', 3, '#', 6]\n",
    "\n",
    "print(contar_valores(dados_principais))\n",
    "\n"
   ]
  },
  {
   "cell_type": "code",
   "execution_count": 11,
   "metadata": {},
   "outputs": [
    {
     "name": "stdin",
     "output_type": "stream",
     "text": [
      "Digite um número com 3 algarismos:  371\n"
     ]
    },
    {
     "name": "stdout",
     "output_type": "stream",
     "text": [
      "O número 371 é um número de Armstrong\n"
     ]
    }
   ],
   "source": [
    "# Exercício 6\n",
    "def armstrong(num1):\n",
    "    a, b, c = num1\n",
    "    if (int(a) ** 3 + int(b) ** 3 + int(c) ** 3) == int(a+  b + c):\n",
    "        return f'O número {int(a + b + c)} é um número de Armstrong'\n",
    "    else:\n",
    "        return f'O número {int(a + b + c)} não é um número de Armstrong'\n",
    "\n",
    "\n",
    "numero = list(input(f'Digite um número com 3 algarismos: '))\n",
    "if len(numero) != 3:\n",
    "    print(f'Você não digitou um número de 3 algarismos')\n",
    "else:\n",
    "    print(f'{armstrong(numero)}')\n",
    "    "
   ]
  },
  {
   "cell_type": "code",
   "execution_count": 10,
   "metadata": {},
   "outputs": [
    {
     "name": "stdin",
     "output_type": "stream",
     "text": [
      "Digite uma palavra para a contagem de vogais:  Ciência dos Dados\n"
     ]
    },
    {
     "name": "stdout",
     "output_type": "stream",
     "text": [
      "7\n"
     ]
    }
   ],
   "source": [
    "# Exercício 7\n",
    "def conta_vogais(string):\n",
    "    vogal = ['a', 'e', 'i', 'o', 'u','á', 'â', 'ã', 'à', 'ê', 'é', 'í', 'ô', 'ó', 'ú']\n",
    "    contador = 0\n",
    "    for i in range (0, len(vogal)):\n",
    "        contador = contador + string.count(vogal[i])\n",
    "    return contador\n",
    "\n",
    "entrada_de_dados = input(f'Digite uma palavra para a contagem de vogais: ')\n",
    "print(conta_vogais(entrada_de_dados))\n"
   ]
  },
  {
   "cell_type": "code",
   "execution_count": 2,
   "metadata": {},
   "outputs": [
    {
     "name": "stdin",
     "output_type": "stream",
     "text": [
      " Digite um número inteiro entre 30 e 100:  30\n"
     ]
    },
    {
     "name": "stdout",
     "output_type": "stream",
     "text": [
      "[30, 31, 32, 33, 34, 35, 36, 37, 38, 39, 40, 41, 42, 43, 44, 45, 46, 47, 48, 49, 50, 51, 52, 53, 54, 55, 56, 57, 58, 59, 60, 61, 62, 63, 64, 65, 66, 67, 68, 69, 70, 71, 72, 73, 74, 75, 76, 77, 78, 79, 80, 81, 82, 83, 84, 85, 86, 87, 88, 89, 90, 91, 92, 93, 94, 95, 96, 97, 98, 99]\n",
      "O elemente 30 está na posição 0.\n"
     ]
    }
   ],
   "source": [
    "# Exercício 8\n",
    "def busca_binaria(vetor, posicao_inicial, posicao_final, elemente_procurado):\n",
    "    if posicao_inicial <= posicao_final:\n",
    "        meio_do_vetor = (posicao_inicial + posicao_final) // 2\n",
    "        if elemente_procurado > vetor[meio_do_vetor]:\n",
    "            return busca_binaria(vetor, meio_do_vetor + 1, posicao_final, elemente_procurado)\n",
    "        elif elemente_procurado < vetor[meio_do_vetor]:\n",
    "            return busca_binaria(vetor, posicao_inicial, meio_do_vetor - 1, elemente_procurado)\n",
    "        else:\n",
    "            return meio_do_vetor  # Encontramos o elemento\n",
    "    return -1\n",
    "\n",
    "\n",
    "try:\n",
    "    elemento_procurado = int(input(f' Digite um número inteiro entre 30 e 100: '))\n",
    "\n",
    "    vetor = list(range(30, 100))\n",
    "    resultado = busca_binaria(vetor, 0, len(vetor), elemento_procurado)\n",
    "    print(vetor)\n",
    "\n",
    "    if resultado == -1:\n",
    "        print('O Elemento procurado não está no vetor')\n",
    "    else:\n",
    "        print(f'O elemente {elemento_procurado} está na posição {resultado}.')\n",
    "\n",
    "except ValueError:\n",
    "    print(f'O Valor digitado não é um número inteiro')\n",
    "    "
   ]
  },
  {
   "cell_type": "code",
   "execution_count": 12,
   "metadata": {},
   "outputs": [
    {
     "name": "stdout",
     "output_type": "stream",
     "text": [
      "Ciência dos Dados\n",
      "<class 'str'>\n"
     ]
    }
   ],
   "source": [
    "# Exercício 9\n",
    "nome = \"Ciência dos Dados\"\n",
    "print(nome)\n",
    "print(type(nome))"
   ]
  },
  {
   "cell_type": "code",
   "execution_count": 14,
   "metadata": {},
   "outputs": [
    {
     "name": "stdin",
     "output_type": "stream",
     "text": [
      "Informar 1 valor (0/5): 5\n",
      "Informar 1 valor (1/5): 2\n",
      "Informar 1 valor (2/5): 3\n",
      "Informar 1 valor (3/5): 4\n",
      "Informar 1 valor (4/5): 1\n"
     ]
    },
    {
     "name": "stdout",
     "output_type": "stream",
     "text": [
      "Maior Valor Digitado: 5.0 - Menor Valor Digitado: 1.0\n"
     ]
    }
   ],
   "source": [
    "# Exercício 10\n",
    "vetor1 = []\n",
    "contador = 0\n",
    "limite_maximo = 5\n",
    "\n",
    "while contador < limite_maximo:\n",
    "    try:\n",
    "        vetor1.append(float(input(f'Informar 1 valor ({contador}/{limite_maximo}):')))\n",
    "        contador = contador + 1\n",
    "    except ValueError:\n",
    "        print(\"Digite somente números\")\n",
    "print(f'Maior Valor Digitado: {max(vetor1)} - Menor Valor Digitado: {min(vetor1)}')\n"
   ]
  },
  {
   "cell_type": "code",
   "execution_count": 4,
   "metadata": {},
   "outputs": [
    {
     "name": "stdin",
     "output_type": "stream",
     "text": [
      "Digite um número:  123456789\n"
     ]
    },
    {
     "name": "stdout",
     "output_type": "stream",
     "text": [
      "987654321\n"
     ]
    }
   ],
   "source": [
    "# Exercício 11\n",
    "def inverter(num1):\n",
    "    return num1[::-1]\n",
    "\n",
    "try:\n",
    "    numero = input(f'Digite um número: ')\n",
    "    validador = int(numero)\n",
    "    print(int(inverter(numero)))\n",
    "    \n",
    "except ValueError:\n",
    "    print(f'Digite somente números')\n",
    "\n"
   ]
  }
 ],
 "metadata": {
  "kernelspec": {
   "display_name": "Python 3",
   "language": "python",
   "name": "python3"
  },
  "language_info": {
   "codemirror_mode": {
    "name": "ipython",
    "version": 3
   },
   "file_extension": ".py",
   "mimetype": "text/x-python",
   "name": "python",
   "nbconvert_exporter": "python",
   "pygments_lexer": "ipython3",
   "version": "3.7.3"
  }
 },
 "nbformat": 4,
 "nbformat_minor": 2
}
